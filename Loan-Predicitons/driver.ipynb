{
 "cells": [
  {
   "cell_type": "code",
   "execution_count": 1,
   "metadata": {
    "collapsed": true
   },
   "outputs": [],
   "source": [
    "import pandas as pd\n",
    "import numpy as np\n",
    "%matplotlib inline\n",
    "import matplotlib.pyplot as plt\n",
    "import seaborn as sns\n",
    "from matplotlib import cm\n",
    "import scipy.stats as sps"
   ]
  },
  {
   "cell_type": "code",
   "execution_count": 2,
   "metadata": {
    "collapsed": true
   },
   "outputs": [],
   "source": [
    "# set styling\n",
    "sns.set(style='whitegrid')\n",
    "cmap = cm.get_cmap('gnuplot')"
   ]
  },
  {
   "cell_type": "markdown",
   "metadata": {},
   "source": [
    "#### Load data"
   ]
  },
  {
   "cell_type": "code",
   "execution_count": 3,
   "metadata": {
    "collapsed": true
   },
   "outputs": [],
   "source": [
    "train = pd.read_csv('train.csv')\n",
    "test = pd.read_csv('test.csv')"
   ]
  },
  {
   "cell_type": "markdown",
   "metadata": {},
   "source": [
    "#### Explore data"
   ]
  },
  {
   "cell_type": "code",
   "execution_count": 4,
   "metadata": {},
   "outputs": [
    {
     "name": "stdout",
     "output_type": "stream",
     "text": [
      "train shape:(614, 13)\n",
      "test shape:(367, 12)\n"
     ]
    }
   ],
   "source": [
    "#print(train.describe())\n",
    "#train.info()\n",
    "train.dtypes\n",
    "train.columns\n",
    "test.columns\n",
    "print('train shape:{}'.format(train.shape))\n",
    "print('test shape:{}'.format(test.shape))"
   ]
  },
  {
   "cell_type": "markdown",
   "metadata": {},
   "source": [
    "#### combine train and test data"
   ]
  },
  {
   "cell_type": "code",
   "execution_count": 5,
   "metadata": {},
   "outputs": [
    {
     "name": "stdout",
     "output_type": "stream",
     "text": [
      "combined data shape:(981, 13)\n",
      "combined data columns:Index(['ApplicantIncome', 'CoapplicantIncome', 'Credit_History', 'Dependents',\n",
      "       'Education', 'Gender', 'LoanAmount', 'Loan_Amount_Term', 'Loan_ID',\n",
      "       'Loan_Status', 'Married', 'Property_Area', 'Self_Employed'],\n",
      "      dtype='object')\n"
     ]
    }
   ],
   "source": [
    "combi = pd.concat([train,test],axis='index')\n",
    "print('combined data shape:{}'.format(combi.shape))\n",
    "print('combined data columns:{}'.format(combi.columns))"
   ]
  },
  {
   "cell_type": "markdown",
   "metadata": {},
   "source": [
    "#### Missing value check "
   ]
  },
  {
   "cell_type": "code",
   "execution_count": 6,
   "metadata": {},
   "outputs": [
    {
     "data": {
      "text/plain": [
       "ApplicantIncome        0\n",
       "CoapplicantIncome      0\n",
       "Credit_History        79\n",
       "Dependents            25\n",
       "Education              0\n",
       "Gender                24\n",
       "LoanAmount            27\n",
       "Loan_Amount_Term      20\n",
       "Loan_ID                0\n",
       "Loan_Status          367\n",
       "Married                3\n",
       "Property_Area          0\n",
       "Self_Employed         55\n",
       "dtype: int64"
      ]
     },
     "execution_count": 6,
     "metadata": {},
     "output_type": "execute_result"
    }
   ],
   "source": [
    "np.sum(combi.isnull())"
   ]
  },
  {
   "cell_type": "markdown",
   "metadata": {},
   "source": [
    "#### ApplicantIncome Analysis\n",
    "\n",
    "- outliers present"
   ]
  },
  {
   "cell_type": "code",
   "execution_count": 7,
   "metadata": {},
   "outputs": [
    {
     "data": {
      "image/png": "[encoded data removed]",
      "text/plain": [
       "<matplotlib.figure.Figure at 0xb36efd0>"
      ]
     },
     "metadata": {},
     "output_type": "display_data"
    },
    {
     "name": "stdout",
     "output_type": "stream",
     "text": [
      "4 people who has ApplicantIncome more than 40000\n",
      "2 people who has ApplicantIncome zero\n"
     ]
    }
   ],
   "source": [
    "# type of ApplicantIncome\n",
    "combi.ApplicantIncome.dtype\n",
    "\n",
    "# Histogram of ApplicantIncome\n",
    "plt.figure()\n",
    "combi.ApplicantIncome.hist(bins = 20)\n",
    "plt.title('ApplicantIncome')\n",
    "plt.show()\n",
    "\n",
    "# Outlier Detection\n",
    "print('{} people who has ApplicantIncome more than {}'.format(len(combi[combi.ApplicantIncome>40000]),40000))\n",
    "print('{} people who has ApplicantIncome zero'.format(len(combi[combi.ApplicantIncome==0])))\n",
    "\n",
    "\n",
    "# Use caping method to fill outlier values\n",
    "combi.loc[combi.ApplicantIncome>40000,'ApplicantIncome'] = 40000\n"
   ]
  },
  {
   "cell_type": "markdown",
   "metadata": {},
   "source": [
    "#### CoapplicantIncome"
   ]
  },
  {
   "cell_type": "code",
   "execution_count": 8,
   "metadata": {},
   "outputs": [
    {
     "data": {
      "image/png": "[encoded data removed]",
      "text/plain": [
       "<matplotlib.figure.Figure at 0xb36ed30>"
      ]
     },
     "metadata": {},
     "output_type": "display_data"
    },
    {
     "name": "stdout",
     "output_type": "stream",
     "text": [
      "3 people has coapplicantincome more than 20000\n"
     ]
    }
   ],
   "source": [
    "# type of CoaapliantIncome\n",
    "combi.CoapplicantIncome\n",
    "\n",
    "# CoapplicantIncome plot\n",
    "plt.figure()\n",
    "combi.CoapplicantIncome.hist(bins=20)\n",
    "plt.title('CoapplicantIncome')\n",
    "plt.show()\n",
    "\n",
    "# Outlier detection\n",
    "print('{} people has coapplicantincome more than {}'.format(len(combi[combi.CoapplicantIncome>20000]),20000))\n",
    "\n",
    "# caping to remove outlier\n",
    "combi.loc[combi.CoapplicantIncome>20000,'CoapplicantIncome'] = 20000"
   ]
  },
  {
   "cell_type": "markdown",
   "metadata": {},
   "source": [
    "### Create New Vartiable TotalIncome = ApplicantIncome+CoapplicantIncome"
   ]
  },
  {
   "cell_type": "code",
   "execution_count": 9,
   "metadata": {},
   "outputs": [
    {
     "data": {
      "image/png": "[encoded data removed]",
      "text/plain": [
       "<matplotlib.figure.Figure at 0xbb52080>"
      ]
     },
     "metadata": {},
     "output_type": "display_data"
    },
    {
     "data": {
      "image/png": "[encoded data removed]",
      "text/plain": [
       "<matplotlib.figure.Figure at 0xb9dd860>"
      ]
     },
     "metadata": {},
     "output_type": "display_data"
    }
   ],
   "source": [
    "combi['TotalIncome'] = combi.ApplicantIncome + combi.CoapplicantIncome\n",
    "\n",
    "plt.figure()\n",
    "combi.TotalIncome.hist(bins=20)\n",
    "plt.title('TotalIncome')\n",
    "plt.show()\n",
    "\n",
    "plt.figure()\n",
    "np.log(combi.TotalIncome).hist(bins=20,grid=False)\n",
    "plt.title('log(TotalIncome)')\n",
    "plt.show()\n",
    "\n",
    "# log transformation of TotalInocme seems more normalized and less shewed\n",
    "combi.TotalIncome = np.log(combi.TotalIncome)"
   ]
  },
  {
   "cell_type": "markdown",
   "metadata": {},
   "source": [
    "#### Married column"
   ]
  },
  {
   "cell_type": "code",
   "execution_count": 10,
   "metadata": {},
   "outputs": [
    {
     "data": {
      "text/plain": [
       "<matplotlib.text.Text at 0xbdb2a58>"
      ]
     },
     "execution_count": 10,
     "metadata": {},
     "output_type": "execute_result"
    },
    {
     "data": {
      "image/png": "[encoded data removed]",
      "text/plain": [
       "<matplotlib.figure.Figure at 0xa2cdb38>"
      ]
     },
     "metadata": {},
     "output_type": "display_data"
    }
   ],
   "source": [
    "# Mostly people are married\n",
    "combi.Married.value_counts()\n",
    "\n",
    "\n",
    "# fill missing value by majority value\n",
    "combi.Married.fillna(np.argmax(combi.Married.value_counts()),inplace=True)\n",
    "\n",
    "\n",
    "# Plot for Married\n",
    "ax = sns.countplot(combi.Married,hue=combi.Loan_Status,palette='Set2',edgecolor = sns.color_palette('dark',2),linewidth=3)\n",
    "ax.set_title('Married vs Loan_Status',fontsize = 15)\n"
   ]
  },
  {
   "cell_type": "markdown",
   "metadata": {},
   "source": [
    "#### LoanAmount"
   ]
  },
  {
   "cell_type": "code",
   "execution_count": 11,
   "metadata": {},
   "outputs": [
    {
     "data": {
      "text/plain": [
       "<matplotlib.axes._subplots.AxesSubplot at 0xbda03c8>"
      ]
     },
     "execution_count": 11,
     "metadata": {},
     "output_type": "execute_result"
    },
    {
     "data": {
      "image/png": "[encoded data removed]",
      "text/plain": [
       "<matplotlib.figure.Figure at 0xbb39278>"
      ]
     },
     "metadata": {},
     "output_type": "display_data"
    }
   ],
   "source": [
    "combi.boxplot(column=['LoanAmount'],by=['Education','Property_Area'],figsize=(12,5),grid=False,rot=35)"
   ]
  },
  {
   "cell_type": "code",
   "execution_count": 12,
   "metadata": {},
   "outputs": [
    {
     "data": {
      "text/html": [
       "<div>\n",
       "<style>\n",
       "    .dataframe thead tr:only-child th {\n",
       "        text-align: right;\n",
       "    }\n",
       "\n",
       "    .dataframe thead th {\n",
       "        text-align: left;\n",
       "    }\n",
       "\n",
       "    .dataframe tbody tr th {\n",
       "        vertical-align: top;\n",
       "    }\n",
       "</style>\n",
       "<table border=\"1\" class=\"dataframe\">\n",
       "  <thead>\n",
       "    <tr style=\"text-align: right;\">\n",
       "      <th></th>\n",
       "      <th></th>\n",
       "      <th></th>\n",
       "      <th>LoanAmount(median)</th>\n",
       "    </tr>\n",
       "    <tr>\n",
       "      <th>Education</th>\n",
       "      <th>Property_Area</th>\n",
       "      <th>Married</th>\n",
       "      <th></th>\n",
       "    </tr>\n",
       "  </thead>\n",
       "  <tbody>\n",
       "    <tr>\n",
       "      <th rowspan=\"6\" valign=\"top\">Graduate</th>\n",
       "      <th rowspan=\"2\" valign=\"top\">Rural</th>\n",
       "      <th>No</th>\n",
       "      <td>145.298701</td>\n",
       "    </tr>\n",
       "    <tr>\n",
       "      <th>Yes</th>\n",
       "      <td>161.059259</td>\n",
       "    </tr>\n",
       "    <tr>\n",
       "      <th rowspan=\"2\" valign=\"top\">Semiurban</th>\n",
       "      <th>No</th>\n",
       "      <td>129.536842</td>\n",
       "    </tr>\n",
       "    <tr>\n",
       "      <th>Yes</th>\n",
       "      <td>158.261628</td>\n",
       "    </tr>\n",
       "    <tr>\n",
       "      <th rowspan=\"2\" valign=\"top\">Urban</th>\n",
       "      <th>No</th>\n",
       "      <td>120.867347</td>\n",
       "    </tr>\n",
       "    <tr>\n",
       "      <th>Yes</th>\n",
       "      <td>160.323353</td>\n",
       "    </tr>\n",
       "    <tr>\n",
       "      <th rowspan=\"6\" valign=\"top\">Not Graduate</th>\n",
       "      <th rowspan=\"2\" valign=\"top\">Rural</th>\n",
       "      <th>No</th>\n",
       "      <td>107.080000</td>\n",
       "    </tr>\n",
       "    <tr>\n",
       "      <th>Yes</th>\n",
       "      <td>128.978261</td>\n",
       "    </tr>\n",
       "    <tr>\n",
       "      <th rowspan=\"2\" valign=\"top\">Semiurban</th>\n",
       "      <th>No</th>\n",
       "      <td>112.892857</td>\n",
       "    </tr>\n",
       "    <tr>\n",
       "      <th>Yes</th>\n",
       "      <td>122.723404</td>\n",
       "    </tr>\n",
       "    <tr>\n",
       "      <th rowspan=\"2\" valign=\"top\">Urban</th>\n",
       "      <th>No</th>\n",
       "      <td>98.058824</td>\n",
       "    </tr>\n",
       "    <tr>\n",
       "      <th>Yes</th>\n",
       "      <td>120.702128</td>\n",
       "    </tr>\n",
       "  </tbody>\n",
       "</table>\n",
       "</div>"
      ],
      "text/plain": [
       "                                    LoanAmount(median)\n",
       "Education    Property_Area Married                    \n",
       "Graduate     Rural         No               145.298701\n",
       "                           Yes              161.059259\n",
       "             Semiurban     No               129.536842\n",
       "                           Yes              158.261628\n",
       "             Urban         No               120.867347\n",
       "                           Yes              160.323353\n",
       "Not Graduate Rural         No               107.080000\n",
       "                           Yes              128.978261\n",
       "             Semiurban     No               112.892857\n",
       "                           Yes              122.723404\n",
       "             Urban         No                98.058824\n",
       "                           Yes              120.702128"
      ]
     },
     "execution_count": 12,
     "metadata": {},
     "output_type": "execute_result"
    }
   ],
   "source": [
    "combi.pivot_table(values='LoanAmount',index =['Education','Property_Area','Married'],aggfunc=np.mean).\\\n",
    "                        rename(columns = {'LoanAmount':'LoanAmount(median)'})\n",
    "\n",
    "# There are many ways to calculate\n",
    "#combi.groupby(['Education','Property_Area','Married'])[['LoanAmount']].apply(lambda x: np.mean(x))\n",
    "#combi.groupby(['Education','Property_Area','Married'])[['LoanAmount']].agg([np.mean,np.median])"
   ]
  },
  {
   "cell_type": "code",
   "execution_count": 13,
   "metadata": {},
   "outputs": [
    {
     "data": {
      "text/plain": [
       "(array([  0,  35,  63,  81,  95, 102, 103, 113, 127, 202, 284, 305, 322,\n",
       "        338, 387, 435, 437, 479, 524, 550, 551, 605, 692, 715, 802, 861, 903], dtype=int64),)"
      ]
     },
     "execution_count": 13,
     "metadata": {},
     "output_type": "execute_result"
    }
   ],
   "source": [
    "## Missingvalue Index for LoanAmount\n",
    "missIndexLoanAmount = np.where(combi.LoanAmount.isnull())\n",
    "missIndexLoanAmount"
   ]
  },
  {
   "cell_type": "code",
   "execution_count": 14,
   "metadata": {},
   "outputs": [
    {
     "data": {
      "text/html": [
       "<div>\n",
       "<style>\n",
       "    .dataframe thead tr:only-child th {\n",
       "        text-align: right;\n",
       "    }\n",
       "\n",
       "    .dataframe thead th {\n",
       "        text-align: left;\n",
       "    }\n",
       "\n",
       "    .dataframe tbody tr th {\n",
       "        vertical-align: top;\n",
       "    }\n",
       "</style>\n",
       "<table border=\"1\" class=\"dataframe\">\n",
       "  <thead>\n",
       "    <tr style=\"text-align: right;\">\n",
       "      <th></th>\n",
       "      <th>ApplicantIncome</th>\n",
       "      <th>CoapplicantIncome</th>\n",
       "      <th>Credit_History</th>\n",
       "      <th>Dependents</th>\n",
       "      <th>Education</th>\n",
       "      <th>Gender</th>\n",
       "      <th>LoanAmount</th>\n",
       "      <th>Loan_Amount_Term</th>\n",
       "      <th>Loan_ID</th>\n",
       "      <th>Loan_Status</th>\n",
       "      <th>Married</th>\n",
       "      <th>Property_Area</th>\n",
       "      <th>Self_Employed</th>\n",
       "      <th>TotalIncome</th>\n",
       "    </tr>\n",
       "  </thead>\n",
       "  <tbody>\n",
       "    <tr>\n",
       "      <th>0</th>\n",
       "      <td>5849</td>\n",
       "      <td>0.0</td>\n",
       "      <td>1.0</td>\n",
       "      <td>0</td>\n",
       "      <td>Graduate</td>\n",
       "      <td>Male</td>\n",
       "      <td>NaN</td>\n",
       "      <td>360.0</td>\n",
       "      <td>LP001002</td>\n",
       "      <td>Y</td>\n",
       "      <td>No</td>\n",
       "      <td>Urban</td>\n",
       "      <td>No</td>\n",
       "      <td>8.674026</td>\n",
       "    </tr>\n",
       "    <tr>\n",
       "      <th>35</th>\n",
       "      <td>2275</td>\n",
       "      <td>2067.0</td>\n",
       "      <td>1.0</td>\n",
       "      <td>0</td>\n",
       "      <td>Graduate</td>\n",
       "      <td>Male</td>\n",
       "      <td>NaN</td>\n",
       "      <td>360.0</td>\n",
       "      <td>LP001106</td>\n",
       "      <td>Y</td>\n",
       "      <td>Yes</td>\n",
       "      <td>Urban</td>\n",
       "      <td>No</td>\n",
       "      <td>8.376090</td>\n",
       "    </tr>\n",
       "    <tr>\n",
       "      <th>63</th>\n",
       "      <td>4945</td>\n",
       "      <td>0.0</td>\n",
       "      <td>0.0</td>\n",
       "      <td>1</td>\n",
       "      <td>Graduate</td>\n",
       "      <td>Male</td>\n",
       "      <td>NaN</td>\n",
       "      <td>360.0</td>\n",
       "      <td>LP001213</td>\n",
       "      <td>N</td>\n",
       "      <td>Yes</td>\n",
       "      <td>Rural</td>\n",
       "      <td>No</td>\n",
       "      <td>8.506132</td>\n",
       "    </tr>\n",
       "    <tr>\n",
       "      <th>81</th>\n",
       "      <td>2395</td>\n",
       "      <td>0.0</td>\n",
       "      <td>1.0</td>\n",
       "      <td>1</td>\n",
       "      <td>Graduate</td>\n",
       "      <td>Male</td>\n",
       "      <td>NaN</td>\n",
       "      <td>360.0</td>\n",
       "      <td>LP001266</td>\n",
       "      <td>Y</td>\n",
       "      <td>Yes</td>\n",
       "      <td>Semiurban</td>\n",
       "      <td>Yes</td>\n",
       "      <td>7.781139</td>\n",
       "    </tr>\n",
       "    <tr>\n",
       "      <th>95</th>\n",
       "      <td>6782</td>\n",
       "      <td>0.0</td>\n",
       "      <td>NaN</td>\n",
       "      <td>0</td>\n",
       "      <td>Graduate</td>\n",
       "      <td>Male</td>\n",
       "      <td>NaN</td>\n",
       "      <td>360.0</td>\n",
       "      <td>LP001326</td>\n",
       "      <td>N</td>\n",
       "      <td>No</td>\n",
       "      <td>Urban</td>\n",
       "      <td>NaN</td>\n",
       "      <td>8.822027</td>\n",
       "    </tr>\n",
       "  </tbody>\n",
       "</table>\n",
       "</div>"
      ],
      "text/plain": [
       "    ApplicantIncome  CoapplicantIncome  Credit_History Dependents Education  \\\n",
       "0              5849                0.0             1.0          0  Graduate   \n",
       "35             2275             2067.0             1.0          0  Graduate   \n",
       "63             4945                0.0             0.0          1  Graduate   \n",
       "81             2395                0.0             1.0          1  Graduate   \n",
       "95             6782                0.0             NaN          0  Graduate   \n",
       "\n",
       "   Gender  LoanAmount  Loan_Amount_Term   Loan_ID Loan_Status Married  \\\n",
       "0    Male         NaN             360.0  LP001002           Y      No   \n",
       "35   Male         NaN             360.0  LP001106           Y     Yes   \n",
       "63   Male         NaN             360.0  LP001213           N     Yes   \n",
       "81   Male         NaN             360.0  LP001266           Y     Yes   \n",
       "95   Male         NaN             360.0  LP001326           N      No   \n",
       "\n",
       "   Property_Area Self_Employed  TotalIncome  \n",
       "0          Urban            No     8.674026  \n",
       "35         Urban            No     8.376090  \n",
       "63         Rural            No     8.506132  \n",
       "81     Semiurban           Yes     7.781139  \n",
       "95         Urban           NaN     8.822027  "
      ]
     },
     "execution_count": 14,
     "metadata": {},
     "output_type": "execute_result"
    }
   ],
   "source": [
    "combi.iloc[missIndexLoanAmount].head()"
   ]
  },
  {
   "cell_type": "code",
   "execution_count": 15,
   "metadata": {
    "collapsed": true
   },
   "outputs": [],
   "source": [
    "## Fill missing value in LoanAmount by 'Education','Property_Area','Married'\n",
    "\n",
    "combi.LoanAmount = combi.groupby(['Education','Property_Area','Married'])[['LoanAmount']].\\\n",
    "                                                                transform(lambda x: x.fillna(np.mean(x)))"
   ]
  },
  {
   "cell_type": "code",
   "execution_count": 16,
   "metadata": {},
   "outputs": [
    {
     "data": {
      "text/plain": [
       "<matplotlib.axes._subplots.AxesSubplot at 0xb9d9160>"
      ]
     },
     "execution_count": 16,
     "metadata": {},
     "output_type": "execute_result"
    },
    {
     "data": {
      "image/png": "[encoded data removed]",
      "text/plain": [
       "<matplotlib.figure.Figure at 0xba47c50>"
      ]
     },
     "metadata": {},
     "output_type": "display_data"
    }
   ],
   "source": [
    "# Plot after missing value treatment\n",
    "combi.boxplot(column=['LoanAmount'],by=['Education','Property_Area'],figsize=(12,5),grid=False,rot=35)"
   ]
  },
  {
   "cell_type": "markdown",
   "metadata": {},
   "source": [
    "## Dependents"
   ]
  },
  {
   "cell_type": "code",
   "execution_count": 17,
   "metadata": {},
   "outputs": [
    {
     "data": {
      "text/plain": [
       "(array([102, 104, 120, 226, 228, 293, 301, 332, 335, 346, 355, 435, 517,\n",
       "        571, 597, 660, 684, 725, 752, 816, 861, 865, 879, 916, 926], dtype=int64),)"
      ]
     },
     "execution_count": 17,
     "metadata": {},
     "output_type": "execute_result"
    }
   ],
   "source": [
    "missIndexDependents = np.where(combi.Dependents.isnull())\n",
    "missIndexDependents"
   ]
  },
  {
   "cell_type": "code",
   "execution_count": 18,
   "metadata": {},
   "outputs": [
    {
     "data": {
      "text/html": [
       "<div>\n",
       "<style>\n",
       "    .dataframe thead tr:only-child th {\n",
       "        text-align: right;\n",
       "    }\n",
       "\n",
       "    .dataframe thead th {\n",
       "        text-align: left;\n",
       "    }\n",
       "\n",
       "    .dataframe tbody tr th {\n",
       "        vertical-align: top;\n",
       "    }\n",
       "</style>\n",
       "<table border=\"1\" class=\"dataframe\">\n",
       "  <thead>\n",
       "    <tr style=\"text-align: right;\">\n",
       "      <th></th>\n",
       "      <th>ApplicantIncome</th>\n",
       "      <th>CoapplicantIncome</th>\n",
       "      <th>Credit_History</th>\n",
       "      <th>Dependents</th>\n",
       "      <th>Education</th>\n",
       "      <th>Gender</th>\n",
       "      <th>LoanAmount</th>\n",
       "      <th>Loan_Amount_Term</th>\n",
       "      <th>Loan_ID</th>\n",
       "      <th>Loan_Status</th>\n",
       "      <th>Married</th>\n",
       "      <th>Property_Area</th>\n",
       "      <th>Self_Employed</th>\n",
       "      <th>TotalIncome</th>\n",
       "    </tr>\n",
       "  </thead>\n",
       "  <tbody>\n",
       "    <tr>\n",
       "      <th>102</th>\n",
       "      <td>13650</td>\n",
       "      <td>0.0</td>\n",
       "      <td>1.0</td>\n",
       "      <td>NaN</td>\n",
       "      <td>Graduate</td>\n",
       "      <td>Male</td>\n",
       "      <td>160.323353</td>\n",
       "      <td>360.0</td>\n",
       "      <td>LP001350</td>\n",
       "      <td>Y</td>\n",
       "      <td>Yes</td>\n",
       "      <td>Urban</td>\n",
       "      <td>No</td>\n",
       "      <td>9.521495</td>\n",
       "    </tr>\n",
       "    <tr>\n",
       "      <th>104</th>\n",
       "      <td>3816</td>\n",
       "      <td>754.0</td>\n",
       "      <td>1.0</td>\n",
       "      <td>NaN</td>\n",
       "      <td>Graduate</td>\n",
       "      <td>Male</td>\n",
       "      <td>160.000000</td>\n",
       "      <td>360.0</td>\n",
       "      <td>LP001357</td>\n",
       "      <td>Y</td>\n",
       "      <td>Yes</td>\n",
       "      <td>Urban</td>\n",
       "      <td>No</td>\n",
       "      <td>8.427268</td>\n",
       "    </tr>\n",
       "    <tr>\n",
       "      <th>120</th>\n",
       "      <td>5667</td>\n",
       "      <td>2667.0</td>\n",
       "      <td>1.0</td>\n",
       "      <td>NaN</td>\n",
       "      <td>Graduate</td>\n",
       "      <td>Male</td>\n",
       "      <td>180.000000</td>\n",
       "      <td>360.0</td>\n",
       "      <td>LP001426</td>\n",
       "      <td>Y</td>\n",
       "      <td>Yes</td>\n",
       "      <td>Rural</td>\n",
       "      <td>No</td>\n",
       "      <td>9.028099</td>\n",
       "    </tr>\n",
       "    <tr>\n",
       "      <th>226</th>\n",
       "      <td>4735</td>\n",
       "      <td>0.0</td>\n",
       "      <td>1.0</td>\n",
       "      <td>NaN</td>\n",
       "      <td>Not Graduate</td>\n",
       "      <td>Male</td>\n",
       "      <td>138.000000</td>\n",
       "      <td>360.0</td>\n",
       "      <td>LP001754</td>\n",
       "      <td>N</td>\n",
       "      <td>Yes</td>\n",
       "      <td>Urban</td>\n",
       "      <td>Yes</td>\n",
       "      <td>8.462737</td>\n",
       "    </tr>\n",
       "    <tr>\n",
       "      <th>228</th>\n",
       "      <td>4758</td>\n",
       "      <td>0.0</td>\n",
       "      <td>1.0</td>\n",
       "      <td>NaN</td>\n",
       "      <td>Graduate</td>\n",
       "      <td>Male</td>\n",
       "      <td>158.000000</td>\n",
       "      <td>480.0</td>\n",
       "      <td>LP001760</td>\n",
       "      <td>Y</td>\n",
       "      <td>Yes</td>\n",
       "      <td>Semiurban</td>\n",
       "      <td>No</td>\n",
       "      <td>8.467583</td>\n",
       "    </tr>\n",
       "  </tbody>\n",
       "</table>\n",
       "</div>"
      ],
      "text/plain": [
       "     ApplicantIncome  CoapplicantIncome  Credit_History Dependents  \\\n",
       "102            13650                0.0             1.0        NaN   \n",
       "104             3816              754.0             1.0        NaN   \n",
       "120             5667             2667.0             1.0        NaN   \n",
       "226             4735                0.0             1.0        NaN   \n",
       "228             4758                0.0             1.0        NaN   \n",
       "\n",
       "        Education Gender  LoanAmount  Loan_Amount_Term   Loan_ID Loan_Status  \\\n",
       "102      Graduate   Male  160.323353             360.0  LP001350           Y   \n",
       "104      Graduate   Male  160.000000             360.0  LP001357           Y   \n",
       "120      Graduate   Male  180.000000             360.0  LP001426           Y   \n",
       "226  Not Graduate   Male  138.000000             360.0  LP001754           N   \n",
       "228      Graduate   Male  158.000000             480.0  LP001760           Y   \n",
       "\n",
       "    Married Property_Area Self_Employed  TotalIncome  \n",
       "102     Yes         Urban            No     9.521495  \n",
       "104     Yes         Urban            No     8.427268  \n",
       "120     Yes         Rural            No     9.028099  \n",
       "226     Yes         Urban           Yes     8.462737  \n",
       "228     Yes     Semiurban            No     8.467583  "
      ]
     },
     "execution_count": 18,
     "metadata": {},
     "output_type": "execute_result"
    }
   ],
   "source": [
    "combi.iloc[missIndexDependents].head()"
   ]
  },
  {
   "cell_type": "code",
   "execution_count": 19,
   "metadata": {},
   "outputs": [
    {
     "data": {
      "text/plain": [
       "0     545\n",
       "1     160\n",
       "2     160\n",
       "3+     91\n",
       "Name: Dependents, dtype: int64"
      ]
     },
     "execution_count": 19,
     "metadata": {},
     "output_type": "execute_result"
    }
   ],
   "source": [
    "combi.Dependents.value_counts()"
   ]
  },
  {
   "cell_type": "code",
   "execution_count": 20,
   "metadata": {
    "collapsed": true
   },
   "outputs": [],
   "source": [
    "# encoding is required\n",
    "combi.Dependents = combi.Dependents.str.replace('3\\+','3')"
   ]
  },
  {
   "cell_type": "code",
   "execution_count": 21,
   "metadata": {},
   "outputs": [
    {
     "data": {
      "text/plain": [
       "<matplotlib.text.Text at 0xbe68f98>"
      ]
     },
     "execution_count": 21,
     "metadata": {},
     "output_type": "execute_result"
    },
    {
     "data": {
      "image/png": "[encoded data removed]",
      "text/plain": [
       "<matplotlib.figure.Figure at 0x741d2b0>"
      ]
     },
     "metadata": {},
     "output_type": "display_data"
    }
   ],
   "source": [
    "ax = sns.countplot(x = 'Dependents',hue = 'Loan_Status',data =combi,palette='Set2')\n",
    "ax.set_title('Dependents vs Loan_Status',fontsize=15)"
   ]
  },
  {
   "cell_type": "code",
   "execution_count": 22,
   "metadata": {},
   "outputs": [
    {
     "data": {
      "text/plain": [
       "Education     Married\n",
       "Graduate      No         0\n",
       "              Yes        0\n",
       "Not Graduate  No         0\n",
       "              Yes        0\n",
       "Name: Dependents, dtype: object"
      ]
     },
     "execution_count": 22,
     "metadata": {},
     "output_type": "execute_result"
    }
   ],
   "source": [
    "combi.groupby(['Education','Married'])['Dependents'].apply(lambda x: np.argmax(x.value_counts()))"
   ]
  },
  {
   "cell_type": "code",
   "execution_count": 23,
   "metadata": {},
   "outputs": [
    {
     "data": {
      "text/plain": [
       "Education     Married  Loan_Status\n",
       "Graduate      No       N              0\n",
       "                       Y              0\n",
       "              Yes      N              0\n",
       "                       Y              0\n",
       "Not Graduate  No       N              0\n",
       "                       Y              0\n",
       "              Yes      N              0\n",
       "                       Y              0\n",
       "Name: Dependents, dtype: object"
      ]
     },
     "execution_count": 23,
     "metadata": {},
     "output_type": "execute_result"
    }
   ],
   "source": [
    "combi.groupby(['Education','Married','Loan_Status'])['Dependents'].apply(lambda x: np.argmax(x.value_counts()))"
   ]
  },
  {
   "cell_type": "code",
   "execution_count": 24,
   "metadata": {
    "collapsed": true
   },
   "outputs": [],
   "source": [
    "combi.Dependents = combi.Dependents.fillna(np.argmax(combi.Dependents.value_counts()))"
   ]
  },
  {
   "cell_type": "markdown",
   "metadata": {},
   "source": [
    "## Gender"
   ]
  },
  {
   "cell_type": "code",
   "execution_count": 25,
   "metadata": {},
   "outputs": [
    {
     "data": {
      "text/plain": [
       "Male      775\n",
       "Female    182\n",
       "Name: Gender, dtype: int64"
      ]
     },
     "execution_count": 25,
     "metadata": {},
     "output_type": "execute_result"
    }
   ],
   "source": [
    "combi.Gender.value_counts()"
   ]
  },
  {
   "cell_type": "code",
   "execution_count": 26,
   "metadata": {},
   "outputs": [
    {
     "data": {
      "text/plain": [
       "<matplotlib.axes._subplots.AxesSubplot at 0xbab9be0>"
      ]
     },
     "execution_count": 26,
     "metadata": {},
     "output_type": "execute_result"
    },
    {
     "data": {
      "image/png": "[encoded data removed]",
      "text/plain": [
       "<matplotlib.figure.Figure at 0xbe58668>"
      ]
     },
     "metadata": {},
     "output_type": "display_data"
    }
   ],
   "source": [
    "sns.countplot(x = 'Gender',hue ='Loan_Status',data = combi,palette='Set2')"
   ]
  },
  {
   "cell_type": "code",
   "execution_count": 27,
   "metadata": {
    "collapsed": true
   },
   "outputs": [],
   "source": [
    "combi.Gender.fillna(np.argmax(combi.Gender.value_counts()),inplace=True)"
   ]
  },
  {
   "cell_type": "markdown",
   "metadata": {},
   "source": [
    "## Loan_Amount_Term"
   ]
  },
  {
   "cell_type": "code",
   "execution_count": 28,
   "metadata": {},
   "outputs": [
    {
     "data": {
      "text/plain": [
       "count    961.000000\n",
       "mean     342.201873\n",
       "std       65.100602\n",
       "min        6.000000\n",
       "25%      360.000000\n",
       "50%      360.000000\n",
       "75%      360.000000\n",
       "max      480.000000\n",
       "Name: Loan_Amount_Term, dtype: float64"
      ]
     },
     "execution_count": 28,
     "metadata": {},
     "output_type": "execute_result"
    }
   ],
   "source": [
    "combi.Loan_Amount_Term.describe()"
   ]
  },
  {
   "cell_type": "code",
   "execution_count": 29,
   "metadata": {},
   "outputs": [
    {
     "data": {
      "text/plain": [
       "<matplotlib.axes._subplots.AxesSubplot at 0xbb01908>"
      ]
     },
     "execution_count": 29,
     "metadata": {},
     "output_type": "execute_result"
    },
    {
     "data": {
      "image/png": "[encoded data removed]",
      "text/plain": [
       "<matplotlib.figure.Figure at 0xb4cccf8>"
      ]
     },
     "metadata": {},
     "output_type": "display_data"
    }
   ],
   "source": [
    "# plot for Loan_Amount_Term\n",
    "\n",
    "combi.Loan_Amount_Term.plot.hist(bins= 15)"
   ]
  },
  {
   "cell_type": "code",
   "execution_count": 30,
   "metadata": {},
   "outputs": [
    {
     "data": {
      "text/plain": [
       "360.0    823\n",
       "180.0     66\n",
       "480.0     23\n",
       "300.0     20\n",
       "240.0      8\n",
       "84.0       7\n",
       "120.0      4\n",
       "36.0       3\n",
       "60.0       3\n",
       "12.0       2\n",
       "350.0      1\n",
       "6.0        1\n",
       "Name: Loan_Amount_Term, dtype: int64"
      ]
     },
     "execution_count": 30,
     "metadata": {},
     "output_type": "execute_result"
    }
   ],
   "source": [
    "combi.Loan_Amount_Term.value_counts()"
   ]
  },
  {
   "cell_type": "code",
   "execution_count": 31,
   "metadata": {},
   "outputs": [
    {
     "data": {
      "text/plain": [
       "(array([ 19,  36,  44,  45,  73, 112, 165, 197, 223, 232, 335, 367, 421,\n",
       "        423, 659, 662, 731, 743, 798, 828], dtype=int64),)"
      ]
     },
     "execution_count": 31,
     "metadata": {},
     "output_type": "execute_result"
    }
   ],
   "source": [
    "missIndexLoan_Amount_Term = np.where(combi.Loan_Amount_Term.isnull())\n",
    "missIndexLoan_Amount_Term"
   ]
  },
  {
   "cell_type": "code",
   "execution_count": 32,
   "metadata": {},
   "outputs": [
    {
     "data": {
      "text/html": [
       "<div>\n",
       "<style>\n",
       "    .dataframe thead tr:only-child th {\n",
       "        text-align: right;\n",
       "    }\n",
       "\n",
       "    .dataframe thead th {\n",
       "        text-align: left;\n",
       "    }\n",
       "\n",
       "    .dataframe tbody tr th {\n",
       "        vertical-align: top;\n",
       "    }\n",
       "</style>\n",
       "<table border=\"1\" class=\"dataframe\">\n",
       "  <thead>\n",
       "    <tr style=\"text-align: right;\">\n",
       "      <th></th>\n",
       "      <th>ApplicantIncome</th>\n",
       "      <th>CoapplicantIncome</th>\n",
       "      <th>Credit_History</th>\n",
       "      <th>Dependents</th>\n",
       "      <th>Education</th>\n",
       "      <th>Gender</th>\n",
       "      <th>LoanAmount</th>\n",
       "      <th>Loan_Amount_Term</th>\n",
       "      <th>Loan_ID</th>\n",
       "      <th>Loan_Status</th>\n",
       "      <th>Married</th>\n",
       "      <th>Property_Area</th>\n",
       "      <th>Self_Employed</th>\n",
       "      <th>TotalIncome</th>\n",
       "    </tr>\n",
       "  </thead>\n",
       "  <tbody>\n",
       "    <tr>\n",
       "      <th>19</th>\n",
       "      <td>2600</td>\n",
       "      <td>3500.0</td>\n",
       "      <td>1.0</td>\n",
       "      <td>0</td>\n",
       "      <td>Graduate</td>\n",
       "      <td>Male</td>\n",
       "      <td>115.0</td>\n",
       "      <td>NaN</td>\n",
       "      <td>LP001041</td>\n",
       "      <td>Y</td>\n",
       "      <td>Yes</td>\n",
       "      <td>Urban</td>\n",
       "      <td>NaN</td>\n",
       "      <td>8.716044</td>\n",
       "    </tr>\n",
       "    <tr>\n",
       "      <th>36</th>\n",
       "      <td>1828</td>\n",
       "      <td>1330.0</td>\n",
       "      <td>0.0</td>\n",
       "      <td>0</td>\n",
       "      <td>Graduate</td>\n",
       "      <td>Male</td>\n",
       "      <td>100.0</td>\n",
       "      <td>NaN</td>\n",
       "      <td>LP001109</td>\n",
       "      <td>N</td>\n",
       "      <td>Yes</td>\n",
       "      <td>Urban</td>\n",
       "      <td>No</td>\n",
       "      <td>8.057694</td>\n",
       "    </tr>\n",
       "    <tr>\n",
       "      <th>44</th>\n",
       "      <td>4695</td>\n",
       "      <td>0.0</td>\n",
       "      <td>1.0</td>\n",
       "      <td>0</td>\n",
       "      <td>Not Graduate</td>\n",
       "      <td>Male</td>\n",
       "      <td>96.0</td>\n",
       "      <td>NaN</td>\n",
       "      <td>LP001136</td>\n",
       "      <td>Y</td>\n",
       "      <td>Yes</td>\n",
       "      <td>Urban</td>\n",
       "      <td>Yes</td>\n",
       "      <td>8.454253</td>\n",
       "    </tr>\n",
       "    <tr>\n",
       "      <th>45</th>\n",
       "      <td>3410</td>\n",
       "      <td>0.0</td>\n",
       "      <td>1.0</td>\n",
       "      <td>0</td>\n",
       "      <td>Graduate</td>\n",
       "      <td>Female</td>\n",
       "      <td>88.0</td>\n",
       "      <td>NaN</td>\n",
       "      <td>LP001137</td>\n",
       "      <td>Y</td>\n",
       "      <td>No</td>\n",
       "      <td>Urban</td>\n",
       "      <td>No</td>\n",
       "      <td>8.134468</td>\n",
       "    </tr>\n",
       "    <tr>\n",
       "      <th>73</th>\n",
       "      <td>4755</td>\n",
       "      <td>0.0</td>\n",
       "      <td>0.0</td>\n",
       "      <td>3</td>\n",
       "      <td>Not Graduate</td>\n",
       "      <td>Male</td>\n",
       "      <td>95.0</td>\n",
       "      <td>NaN</td>\n",
       "      <td>LP001250</td>\n",
       "      <td>N</td>\n",
       "      <td>Yes</td>\n",
       "      <td>Semiurban</td>\n",
       "      <td>No</td>\n",
       "      <td>8.466952</td>\n",
       "    </tr>\n",
       "  </tbody>\n",
       "</table>\n",
       "</div>"
      ],
      "text/plain": [
       "    ApplicantIncome  CoapplicantIncome  Credit_History Dependents  \\\n",
       "19             2600             3500.0             1.0          0   \n",
       "36             1828             1330.0             0.0          0   \n",
       "44             4695                0.0             1.0          0   \n",
       "45             3410                0.0             1.0          0   \n",
       "73             4755                0.0             0.0          3   \n",
       "\n",
       "       Education  Gender  LoanAmount  Loan_Amount_Term   Loan_ID Loan_Status  \\\n",
       "19      Graduate    Male       115.0               NaN  LP001041           Y   \n",
       "36      Graduate    Male       100.0               NaN  LP001109           N   \n",
       "44  Not Graduate    Male        96.0               NaN  LP001136           Y   \n",
       "45      Graduate  Female        88.0               NaN  LP001137           Y   \n",
       "73  Not Graduate    Male        95.0               NaN  LP001250           N   \n",
       "\n",
       "   Married Property_Area Self_Employed  TotalIncome  \n",
       "19     Yes         Urban           NaN     8.716044  \n",
       "36     Yes         Urban            No     8.057694  \n",
       "44     Yes         Urban           Yes     8.454253  \n",
       "45      No         Urban            No     8.134468  \n",
       "73     Yes     Semiurban            No     8.466952  "
      ]
     },
     "execution_count": 32,
     "metadata": {},
     "output_type": "execute_result"
    }
   ],
   "source": [
    "combi.iloc[missIndexLoan_Amount_Term].head()"
   ]
  },
  {
   "cell_type": "code",
   "execution_count": 33,
   "metadata": {},
   "outputs": [
    {
     "data": {
      "text/html": [
       "<div>\n",
       "<style>\n",
       "    .dataframe thead tr:only-child th {\n",
       "        text-align: right;\n",
       "    }\n",
       "\n",
       "    .dataframe thead th {\n",
       "        text-align: left;\n",
       "    }\n",
       "\n",
       "    .dataframe tbody tr th {\n",
       "        vertical-align: top;\n",
       "    }\n",
       "</style>\n",
       "<table border=\"1\" class=\"dataframe\">\n",
       "  <thead>\n",
       "    <tr style=\"text-align: right;\">\n",
       "      <th></th>\n",
       "      <th></th>\n",
       "      <th></th>\n",
       "      <th>Loan_Amount_Term</th>\n",
       "    </tr>\n",
       "    <tr>\n",
       "      <th>Education</th>\n",
       "      <th>Property_Area</th>\n",
       "      <th>Credit_History</th>\n",
       "      <th></th>\n",
       "    </tr>\n",
       "  </thead>\n",
       "  <tbody>\n",
       "    <tr>\n",
       "      <th rowspan=\"6\" valign=\"top\">Graduate</th>\n",
       "      <th rowspan=\"2\" valign=\"top\">Rural</th>\n",
       "      <th>0.0</th>\n",
       "      <td>346.875000</td>\n",
       "    </tr>\n",
       "    <tr>\n",
       "      <th>1.0</th>\n",
       "      <td>343.212121</td>\n",
       "    </tr>\n",
       "    <tr>\n",
       "      <th rowspan=\"2\" valign=\"top\">Semiurban</th>\n",
       "      <th>0.0</th>\n",
       "      <td>341.121951</td>\n",
       "    </tr>\n",
       "    <tr>\n",
       "      <th>1.0</th>\n",
       "      <td>346.415094</td>\n",
       "    </tr>\n",
       "    <tr>\n",
       "      <th rowspan=\"2\" valign=\"top\">Urban</th>\n",
       "      <th>0.0</th>\n",
       "      <td>349.655172</td>\n",
       "    </tr>\n",
       "    <tr>\n",
       "      <th>1.0</th>\n",
       "      <td>338.830189</td>\n",
       "    </tr>\n",
       "    <tr>\n",
       "      <th rowspan=\"6\" valign=\"top\">Not Graduate</th>\n",
       "      <th rowspan=\"2\" valign=\"top\">Rural</th>\n",
       "      <th>0.0</th>\n",
       "      <td>341.538462</td>\n",
       "    </tr>\n",
       "    <tr>\n",
       "      <th>1.0</th>\n",
       "      <td>348.461538</td>\n",
       "    </tr>\n",
       "    <tr>\n",
       "      <th rowspan=\"2\" valign=\"top\">Semiurban</th>\n",
       "      <th>0.0</th>\n",
       "      <td>340.000000</td>\n",
       "    </tr>\n",
       "    <tr>\n",
       "      <th>1.0</th>\n",
       "      <td>336.642857</td>\n",
       "    </tr>\n",
       "    <tr>\n",
       "      <th rowspan=\"2\" valign=\"top\">Urban</th>\n",
       "      <th>0.0</th>\n",
       "      <td>349.411765</td>\n",
       "    </tr>\n",
       "    <tr>\n",
       "      <th>1.0</th>\n",
       "      <td>322.666667</td>\n",
       "    </tr>\n",
       "  </tbody>\n",
       "</table>\n",
       "</div>"
      ],
      "text/plain": [
       "                                           Loan_Amount_Term\n",
       "Education    Property_Area Credit_History                  \n",
       "Graduate     Rural         0.0                   346.875000\n",
       "                           1.0                   343.212121\n",
       "             Semiurban     0.0                   341.121951\n",
       "                           1.0                   346.415094\n",
       "             Urban         0.0                   349.655172\n",
       "                           1.0                   338.830189\n",
       "Not Graduate Rural         0.0                   341.538462\n",
       "                           1.0                   348.461538\n",
       "             Semiurban     0.0                   340.000000\n",
       "                           1.0                   336.642857\n",
       "             Urban         0.0                   349.411765\n",
       "                           1.0                   322.666667"
      ]
     },
     "execution_count": 33,
     "metadata": {},
     "output_type": "execute_result"
    }
   ],
   "source": [
    "pd.pivot_table(data = combi,values='Loan_Amount_Term',index=['Education','Property_Area','Credit_History'],aggfunc=np.mean)"
   ]
  },
  {
   "cell_type": "code",
   "execution_count": 34,
   "metadata": {
    "collapsed": true
   },
   "outputs": [],
   "source": [
    "combi.Loan_Amount_Term = combi.groupby(['Education','Property_Area','Married','Gender'])['Loan_Amount_Term'].transform(lambda x: x.fillna(np.mean(x)))"
   ]
  },
  {
   "cell_type": "code",
   "execution_count": 35,
   "metadata": {},
   "outputs": [
    {
     "data": {
      "text/plain": [
       "<matplotlib.axes._subplots.AxesSubplot at 0xbecd588>"
      ]
     },
     "execution_count": 35,
     "metadata": {},
     "output_type": "execute_result"
    },
    {
     "data": {
      "image/png": "[encoded data removed]",
      "text/plain": [
       "<matplotlib.figure.Figure at 0xbf13e48>"
      ]
     },
     "metadata": {},
     "output_type": "display_data"
    }
   ],
   "source": [
    "R = 8.35/100\n",
    "combi['EMI'] = ((combi.LoanAmount * R) * ((1+R)**(combi.Loan_Amount_Term))) /(1+R**(combi.Loan_Amount_Term-1))\n",
    "combi.EMI.describe()\n",
    "combi.EMI.plot.hist(bins=10)"
   ]
  },
  {
   "cell_type": "code",
   "execution_count": 36,
   "metadata": {},
   "outputs": [
    {
     "data": {
      "text/plain": [
       "<matplotlib.axes._subplots.AxesSubplot at 0xbf1b3c8>"
      ]
     },
     "execution_count": 36,
     "metadata": {},
     "output_type": "execute_result"
    },
    {
     "data": {
      "image/png": "[encoded data removed]",
      "text/plain": [
       "<matplotlib.figure.Figure at 0xc266748>"
      ]
     },
     "metadata": {},
     "output_type": "display_data"
    }
   ],
   "source": [
    "combi['EMI_log'] = np.log(combi.EMI)\n",
    "\n",
    "combi['EMI_log'].plot.hist()"
   ]
  },
  {
   "cell_type": "markdown",
   "metadata": {},
   "source": [
    "## Self_Employed"
   ]
  },
  {
   "cell_type": "code",
   "execution_count": 37,
   "metadata": {},
   "outputs": [
    {
     "data": {
      "text/plain": [
       "No     807\n",
       "Yes    119\n",
       "Name: Self_Employed, dtype: int64"
      ]
     },
     "execution_count": 37,
     "metadata": {},
     "output_type": "execute_result"
    }
   ],
   "source": [
    "combi.Self_Employed.value_counts()"
   ]
  },
  {
   "cell_type": "code",
   "execution_count": 38,
   "metadata": {},
   "outputs": [
    {
     "data": {
      "text/html": [
       "<div>\n",
       "<style>\n",
       "    .dataframe thead tr:only-child th {\n",
       "        text-align: right;\n",
       "    }\n",
       "\n",
       "    .dataframe thead th {\n",
       "        text-align: left;\n",
       "    }\n",
       "\n",
       "    .dataframe tbody tr th {\n",
       "        vertical-align: top;\n",
       "    }\n",
       "</style>\n",
       "<table border=\"1\" class=\"dataframe\">\n",
       "  <thead>\n",
       "    <tr style=\"text-align: right;\">\n",
       "      <th></th>\n",
       "      <th></th>\n",
       "      <th></th>\n",
       "      <th>Self_Employed</th>\n",
       "    </tr>\n",
       "    <tr>\n",
       "      <th>Education</th>\n",
       "      <th>Property_Area</th>\n",
       "      <th>Married</th>\n",
       "      <th></th>\n",
       "    </tr>\n",
       "  </thead>\n",
       "  <tbody>\n",
       "    <tr>\n",
       "      <th rowspan=\"6\" valign=\"top\">Graduate</th>\n",
       "      <th rowspan=\"2\" valign=\"top\">Rural</th>\n",
       "      <th>No</th>\n",
       "      <td>No</td>\n",
       "    </tr>\n",
       "    <tr>\n",
       "      <th>Yes</th>\n",
       "      <td>No</td>\n",
       "    </tr>\n",
       "    <tr>\n",
       "      <th rowspan=\"2\" valign=\"top\">Semiurban</th>\n",
       "      <th>No</th>\n",
       "      <td>No</td>\n",
       "    </tr>\n",
       "    <tr>\n",
       "      <th>Yes</th>\n",
       "      <td>No</td>\n",
       "    </tr>\n",
       "    <tr>\n",
       "      <th rowspan=\"2\" valign=\"top\">Urban</th>\n",
       "      <th>No</th>\n",
       "      <td>No</td>\n",
       "    </tr>\n",
       "    <tr>\n",
       "      <th>Yes</th>\n",
       "      <td>No</td>\n",
       "    </tr>\n",
       "    <tr>\n",
       "      <th rowspan=\"6\" valign=\"top\">Not Graduate</th>\n",
       "      <th rowspan=\"2\" valign=\"top\">Rural</th>\n",
       "      <th>No</th>\n",
       "      <td>No</td>\n",
       "    </tr>\n",
       "    <tr>\n",
       "      <th>Yes</th>\n",
       "      <td>No</td>\n",
       "    </tr>\n",
       "    <tr>\n",
       "      <th rowspan=\"2\" valign=\"top\">Semiurban</th>\n",
       "      <th>No</th>\n",
       "      <td>No</td>\n",
       "    </tr>\n",
       "    <tr>\n",
       "      <th>Yes</th>\n",
       "      <td>No</td>\n",
       "    </tr>\n",
       "    <tr>\n",
       "      <th rowspan=\"2\" valign=\"top\">Urban</th>\n",
       "      <th>No</th>\n",
       "      <td>No</td>\n",
       "    </tr>\n",
       "    <tr>\n",
       "      <th>Yes</th>\n",
       "      <td>No</td>\n",
       "    </tr>\n",
       "  </tbody>\n",
       "</table>\n",
       "</div>"
      ],
      "text/plain": [
       "                                   Self_Employed\n",
       "Education    Property_Area Married              \n",
       "Graduate     Rural         No                 No\n",
       "                           Yes                No\n",
       "             Semiurban     No                 No\n",
       "                           Yes                No\n",
       "             Urban         No                 No\n",
       "                           Yes                No\n",
       "Not Graduate Rural         No                 No\n",
       "                           Yes                No\n",
       "             Semiurban     No                 No\n",
       "                           Yes                No\n",
       "             Urban         No                 No\n",
       "                           Yes                No"
      ]
     },
     "execution_count": 38,
     "metadata": {},
     "output_type": "execute_result"
    }
   ],
   "source": [
    "pd.pivot_table(data = combi,values='Self_Employed',index=['Education','Property_Area','Married'],aggfunc= lambda x : np.argmax(x.value_counts()))"
   ]
  },
  {
   "cell_type": "code",
   "execution_count": 39,
   "metadata": {
    "collapsed": true
   },
   "outputs": [],
   "source": [
    "combi.Self_Employed.fillna(np.argmax(combi.Self_Employed.value_counts()),inplace=True)"
   ]
  },
  {
   "cell_type": "markdown",
   "metadata": {},
   "source": [
    "## Credit_History"
   ]
  },
  {
   "cell_type": "code",
   "execution_count": 40,
   "metadata": {},
   "outputs": [
    {
     "data": {
      "text/plain": [
       "1.0    754\n",
       "0.0    148\n",
       "Name: Credit_History, dtype: int64"
      ]
     },
     "execution_count": 40,
     "metadata": {},
     "output_type": "execute_result"
    }
   ],
   "source": [
    "combi.Credit_History.value_counts()"
   ]
  },
  {
   "cell_type": "code",
   "execution_count": 41,
   "metadata": {},
   "outputs": [
    {
     "data": {
      "text/html": [
       "<div>\n",
       "<style>\n",
       "    .dataframe thead tr:only-child th {\n",
       "        text-align: right;\n",
       "    }\n",
       "\n",
       "    .dataframe thead th {\n",
       "        text-align: left;\n",
       "    }\n",
       "\n",
       "    .dataframe tbody tr th {\n",
       "        vertical-align: top;\n",
       "    }\n",
       "</style>\n",
       "<table border=\"1\" class=\"dataframe\">\n",
       "  <thead>\n",
       "    <tr style=\"text-align: right;\">\n",
       "      <th></th>\n",
       "      <th></th>\n",
       "      <th></th>\n",
       "      <th>Credit_History</th>\n",
       "    </tr>\n",
       "    <tr>\n",
       "      <th>Education</th>\n",
       "      <th>Property_Area</th>\n",
       "      <th>Gender</th>\n",
       "      <th></th>\n",
       "    </tr>\n",
       "  </thead>\n",
       "  <tbody>\n",
       "    <tr>\n",
       "      <th rowspan=\"6\" valign=\"top\">Graduate</th>\n",
       "      <th rowspan=\"2\" valign=\"top\">Rural</th>\n",
       "      <th>Female</th>\n",
       "      <td>1.0</td>\n",
       "    </tr>\n",
       "    <tr>\n",
       "      <th>Male</th>\n",
       "      <td>1.0</td>\n",
       "    </tr>\n",
       "    <tr>\n",
       "      <th rowspan=\"2\" valign=\"top\">Semiurban</th>\n",
       "      <th>Female</th>\n",
       "      <td>1.0</td>\n",
       "    </tr>\n",
       "    <tr>\n",
       "      <th>Male</th>\n",
       "      <td>1.0</td>\n",
       "    </tr>\n",
       "    <tr>\n",
       "      <th rowspan=\"2\" valign=\"top\">Urban</th>\n",
       "      <th>Female</th>\n",
       "      <td>1.0</td>\n",
       "    </tr>\n",
       "    <tr>\n",
       "      <th>Male</th>\n",
       "      <td>1.0</td>\n",
       "    </tr>\n",
       "    <tr>\n",
       "      <th rowspan=\"6\" valign=\"top\">Not Graduate</th>\n",
       "      <th rowspan=\"2\" valign=\"top\">Rural</th>\n",
       "      <th>Female</th>\n",
       "      <td>1.0</td>\n",
       "    </tr>\n",
       "    <tr>\n",
       "      <th>Male</th>\n",
       "      <td>1.0</td>\n",
       "    </tr>\n",
       "    <tr>\n",
       "      <th rowspan=\"2\" valign=\"top\">Semiurban</th>\n",
       "      <th>Female</th>\n",
       "      <td>1.0</td>\n",
       "    </tr>\n",
       "    <tr>\n",
       "      <th>Male</th>\n",
       "      <td>1.0</td>\n",
       "    </tr>\n",
       "    <tr>\n",
       "      <th rowspan=\"2\" valign=\"top\">Urban</th>\n",
       "      <th>Female</th>\n",
       "      <td>1.0</td>\n",
       "    </tr>\n",
       "    <tr>\n",
       "      <th>Male</th>\n",
       "      <td>1.0</td>\n",
       "    </tr>\n",
       "  </tbody>\n",
       "</table>\n",
       "</div>"
      ],
      "text/plain": [
       "                                   Credit_History\n",
       "Education    Property_Area Gender                \n",
       "Graduate     Rural         Female             1.0\n",
       "                           Male               1.0\n",
       "             Semiurban     Female             1.0\n",
       "                           Male               1.0\n",
       "             Urban         Female             1.0\n",
       "                           Male               1.0\n",
       "Not Graduate Rural         Female             1.0\n",
       "                           Male               1.0\n",
       "             Semiurban     Female             1.0\n",
       "                           Male               1.0\n",
       "             Urban         Female             1.0\n",
       "                           Male               1.0"
      ]
     },
     "execution_count": 41,
     "metadata": {},
     "output_type": "execute_result"
    }
   ],
   "source": [
    "pd.pivot_table(data = combi,values='Credit_History',index=['Education','Property_Area','Gender'],aggfunc=lambda x: sps.stats.mode(x)[0])"
   ]
  },
  {
   "cell_type": "code",
   "execution_count": 42,
   "metadata": {
    "collapsed": true
   },
   "outputs": [],
   "source": [
    "combi.Credit_History.fillna(1,inplace=True)"
   ]
  },
  {
   "cell_type": "markdown",
   "metadata": {},
   "source": [
    "## Encoding"
   ]
  },
  {
   "cell_type": "code",
   "execution_count": 43,
   "metadata": {},
   "outputs": [
    {
     "data": {
      "text/plain": [
       "((614, 16), (367, 16))"
      ]
     },
     "execution_count": 43,
     "metadata": {},
     "output_type": "execute_result"
    }
   ],
   "source": [
    "new_train = combi[combi.Loan_Status.notnull()]\n",
    "new_test = combi[combi.Loan_Status.isnull()]\n",
    "\n",
    "new_train.shape , new_test.shape"
   ]
  },
  {
   "cell_type": "code",
   "execution_count": 44,
   "metadata": {
    "collapsed": true
   },
   "outputs": [],
   "source": [
    "from sklearn.preprocessing import LabelEncoder\n",
    "\n",
    "lb_make = LabelEncoder()"
   ]
  },
  {
   "cell_type": "code",
   "execution_count": 51,
   "metadata": {
    "collapsed": true
   },
   "outputs": [],
   "source": [
    "new_train_var = new_train.select_dtypes(include=['object']).columns.copy()\n",
    "new_test_var = new_train.select_dtypes(include=['object']).columns.copy()"
   ]
  },
  {
   "cell_type": "code",
   "execution_count": 52,
   "metadata": {},
   "outputs": [
    {
     "data": {
      "text/plain": [
       "Index([], dtype='object')"
      ]
     },
     "execution_count": 52,
     "metadata": {},
     "output_type": "execute_result"
    }
   ],
   "source": [
    "new_train_var"
   ]
  },
  {
   "cell_type": "code",
   "execution_count": 53,
   "metadata": {},
   "outputs": [],
   "source": [
    "for col in new_train_var:\n",
    "    new_train.loc[:,col] = lb_make.fit_transform(new_train.loc[:,col])\n",
    "    \n",
    "for col in new_test_var:\n",
    "    new_test.loc[:,col] = lb_make.fit_transform(new_test.loc[:,col])"
   ]
  },
  {
   "cell_type": "code",
   "execution_count": 54,
   "metadata": {},
   "outputs": [
    {
     "data": {
      "text/plain": [
       "ApplicantIncome        int64\n",
       "CoapplicantIncome    float64\n",
       "Credit_History       float64\n",
       "Dependents             int64\n",
       "Education              int64\n",
       "Gender                 int64\n",
       "LoanAmount           float64\n",
       "Loan_Amount_Term     float64\n",
       "Loan_ID                int64\n",
       "Loan_Status            int64\n",
       "Married                int64\n",
       "Property_Area          int64\n",
       "Self_Employed          int64\n",
       "TotalIncome          float64\n",
       "EMI                  float64\n",
       "EMI_log              float64\n",
       "dtype: object"
      ]
     },
     "execution_count": 54,
     "metadata": {},
     "output_type": "execute_result"
    }
   ],
   "source": [
    "new_test.dtypes"
   ]
  },
  {
   "cell_type": "code",
   "execution_count": 55,
   "metadata": {},
   "outputs": [
    {
     "data": {
      "text/plain": [
       "ApplicantIncome        int64\n",
       "CoapplicantIncome    float64\n",
       "Credit_History       float64\n",
       "Dependents             int64\n",
       "Education              int64\n",
       "Gender                 int64\n",
       "LoanAmount           float64\n",
       "Loan_Amount_Term     float64\n",
       "Loan_ID                int64\n",
       "Loan_Status            int64\n",
       "Married                int64\n",
       "Property_Area          int64\n",
       "Self_Employed          int64\n",
       "TotalIncome          float64\n",
       "EMI                  float64\n",
       "EMI_log              float64\n",
       "dtype: object"
      ]
     },
     "execution_count": 55,
     "metadata": {},
     "output_type": "execute_result"
    }
   ],
   "source": [
    "new_test.dtypes"
   ]
  },
  {
   "cell_type": "code",
   "execution_count": 56,
   "metadata": {
    "collapsed": true
   },
   "outputs": [],
   "source": [
    "predictors = new_train.drop(['Loan_ID','ApplicantIncome','CoapplicantIncome','LoanAmount','Loan_Amount_Term'],\n",
    "               axis ='columns').columns\n",
    "\n",
    "X = new_train[predictors]\n",
    "y = new_train.Loan_Status\n",
    "final_test_data = new_test[predictors]"
   ]
  },
  {
   "cell_type": "markdown",
   "metadata": {},
   "source": [
    "# --------------------------------------------------------------------------------------------------------------"
   ]
  },
  {
   "cell_type": "markdown",
   "metadata": {},
   "source": [
    "# Base Accuracy (Dummy Accuracy )\n",
    "\n",
    "    Train score : 71.5"
   ]
  },
  {
   "cell_type": "code",
   "execution_count": 57,
   "metadata": {
    "collapsed": true
   },
   "outputs": [],
   "source": [
    "from sklearn.dummy import DummyClassifier"
   ]
  },
  {
   "cell_type": "code",
   "execution_count": 58,
   "metadata": {
    "collapsed": true
   },
   "outputs": [],
   "source": [
    "dummy_majority = DummyClassifier(strategy='most_frequent').fit(X,y)\n",
    "y_dummy_prediction = dummy_majority.predict(final_test_data)"
   ]
  },
  {
   "cell_type": "code",
   "execution_count": 59,
   "metadata": {
    "collapsed": true
   },
   "outputs": [],
   "source": [
    "predicted = np.where(y_dummy_prediction==1,'Y','N')\n",
    "\n",
    "submit_df = pd.DataFrame({'Loan_ID':test.Loan_ID,'Loan_Status':predicted})\n",
    "submit_df.to_csv('dummy.csv',index=False)"
   ]
  },
  {
   "cell_type": "markdown",
   "metadata": {},
   "source": [
    "# ----------------------------------------------------------------------------------------------------------"
   ]
  },
  {
   "cell_type": "markdown",
   "metadata": {},
   "source": [
    "## Feature Selection Based on Random Forest"
   ]
  },
  {
   "cell_type": "code",
   "execution_count": 216,
   "metadata": {},
   "outputs": [
    {
     "data": {
      "text/plain": [
       "Index(['Credit_History', 'Dependents', 'Education', 'Gender', 'Married',\n",
       "       'Property_Area', 'Self_Employed', 'TotalIncome', 'EMI', 'EMI_log'],\n",
       "      dtype='object')"
      ]
     },
     "execution_count": 216,
     "metadata": {},
     "output_type": "execute_result"
    }
   ],
   "source": [
    "predictors = new_train.drop(['Loan_ID','ApplicantIncome','CoapplicantIncome','LoanAmount','Loan_Amount_Term','Loan_Status'],\n",
    "               axis ='columns').columns\n",
    "\n",
    "X = new_train[predictors]\n",
    "y = new_train.Loan_Status\n",
    "\n",
    "final_test_data = new_test[predictors]\n",
    "predictors"
   ]
  },
  {
   "cell_type": "code",
   "execution_count": 217,
   "metadata": {
    "collapsed": true
   },
   "outputs": [],
   "source": [
    "from sklearn.ensemble import RandomForestClassifier\n",
    "from sklearn.feature_selection import SelectFromModel"
   ]
  },
  {
   "cell_type": "code",
   "execution_count": 218,
   "metadata": {},
   "outputs": [
    {
     "data": {
      "text/plain": [
       "Credit_History    0.266244\n",
       "TotalIncome       0.209099\n",
       "EMI_log           0.173958\n",
       "EMI               0.164430\n",
       "Dependents        0.052033\n",
       "Property_Area     0.051727\n",
       "Self_Employed     0.024219\n",
       "Married           0.023524\n",
       "Education         0.017452\n",
       "Gender            0.017314\n",
       "dtype: float64"
      ]
     },
     "execution_count": 218,
     "metadata": {},
     "output_type": "execute_result"
    }
   ],
   "source": [
    "model = RandomForestClassifier().fit(X,y)\n",
    "\n",
    "pd.Series(model.feature_importances_,index=predictors).sort_values(ascending=False)"
   ]
  },
  {
   "cell_type": "code",
   "execution_count": 219,
   "metadata": {},
   "outputs": [
    {
     "name": "stdout",
     "output_type": "stream",
     "text": [
      "Credit_History\n",
      "TotalIncome\n",
      "EMI\n"
     ]
    }
   ],
   "source": [
    "## Want  only those predictor that have impotance greater than 0.10\n",
    "sfm = SelectFromModel(model, threshold=0.15)\n",
    "\n",
    "# Train the selector\n",
    "sfm.fit(X_train, y_train)\n",
    "\n",
    "# Print the names of the most important features\n",
    "for feature_list_index in sfm.get_support(indices=True):\n",
    "    print(predictors[feature_list_index])"
   ]
  },
  {
   "cell_type": "code",
   "execution_count": 161,
   "metadata": {
    "collapsed": true
   },
   "outputs": [],
   "source": [
    "# Transform the data to create a new dataset containing only the most important features\n",
    "# Note: We have to apply the transform to both the training X and test X data.\n",
    "X_important_train = sfm.transform(X_train)\n",
    "X_important_test = sfm.transform(final_test_data)"
   ]
  },
  {
   "cell_type": "markdown",
   "metadata": {},
   "source": [
    "# -------------------------------------------------------------------------------------------------------------"
   ]
  },
  {
   "cell_type": "markdown",
   "metadata": {},
   "source": [
    "# Modeling (default parameter)"
   ]
  },
  {
   "cell_type": "code",
   "execution_count": 221,
   "metadata": {},
   "outputs": [
    {
     "data": {
      "text/plain": [
       "Index(['Credit_History', 'Dependents', 'Education', 'Gender', 'Loan_Status',\n",
       "       'Married', 'Property_Area', 'Self_Employed', 'TotalIncome', 'EMI_log'],\n",
       "      dtype='object')"
      ]
     },
     "execution_count": 221,
     "metadata": {},
     "output_type": "execute_result"
    }
   ],
   "source": [
    "predictors = new_train.drop(['Loan_ID','ApplicantIncome','CoapplicantIncome','LoanAmount','Loan_Amount_Term','EMI'],\n",
    "               axis ='columns').columns\n",
    "\n",
    "X = new_train[predictors]\n",
    "y = new_train.Loan_Status\n",
    "final_test_data = new_test[predictors]\n",
    "\n",
    "predictors"
   ]
  },
  {
   "cell_type": "code",
   "execution_count": 222,
   "metadata": {
    "collapsed": true
   },
   "outputs": [],
   "source": [
    "from sklearn.model_selection import  train_test_split\n",
    "from sklearn.neighbors import  KNeighborsClassifier\n",
    "from sklearn.linear_model import LogisticRegression\n",
    "from sklearn.tree import DecisionTreeClassifier\n",
    "from sklearn.svm import SVC\n",
    "from sklearn.ensemble import RandomForestClassifier,GradientBoostingClassifier"
   ]
  },
  {
   "cell_type": "code",
   "execution_count": 223,
   "metadata": {
    "collapsed": true
   },
   "outputs": [],
   "source": [
    "X_train, X_test, y_train, y_test = train_test_split(X,y,random_state=0)\n",
    "\n",
    "def general_classifier(model,X_train,y_train,X_test,y_test):\n",
    "    training_score=[]\n",
    "    testing_score=[]\n",
    "    df = None\n",
    "    \n",
    "    if isinstance(model,KNeighborsClassifier):\n",
    "        model = KNeighborsClassifier()\n",
    "    elif isinstance(model,LogisticRegression):\n",
    "        model = LogisticRegression()\n",
    "    elif isinstance(model,DecisionTreeClassifier):\n",
    "        model = DecisionTreeClassifier()\n",
    "    elif isinstance(model,SVC):\n",
    "        model = SVC()\n",
    "    elif isinstance(model,RandomForestClassifier):\n",
    "        model = RandomForestClassifier()\n",
    "    elif isinstance(model,GradientBoostingClassifier):\n",
    "        model = GradientBoostingClassifier()\n",
    "    \n",
    "    model.fit(X_train,y_train)\n",
    "    training_score.append(model.score(X_train,y_train))\n",
    "    testing_score.append(model.score(X_test,y_test))\n",
    "\n",
    "    df = pd.DataFrame({'train_score':training_score,\n",
    "                       'test_score':testing_score })\n",
    "    df = df.sort_values(['test_score','train_score'],ascending=False).head(1)\n",
    "    return(df)"
   ]
  },
  {
   "cell_type": "code",
   "execution_count": 224,
   "metadata": {
    "collapsed": true
   },
   "outputs": [],
   "source": [
    "knn = general_classifier(KNeighborsClassifier(),X_train,y_train,X_test,y_test)\n",
    "logistic = general_classifier(LogisticRegression(),X_train,y_train,X_test,y_test)\n",
    "tree = general_classifier(DecisionTreeClassifier(),X_train,y_train,X_test,y_test)\n",
    "svm = general_classifier(SVC(),X_train,y_train,X_test,y_test)\n",
    "rf = general_classifier(RandomForestClassifier(),X_train,y_train,X_test,y_test)\n",
    "gbm = general_classifier(GradientBoostingClassifier(),X_train,y_train,X_test,y_test)"
   ]
  },
  {
   "cell_type": "code",
   "execution_count": 225,
   "metadata": {},
   "outputs": [
    {
     "data": {
      "text/html": [
       "<div>\n",
       "<style>\n",
       "    .dataframe thead tr:only-child th {\n",
       "        text-align: right;\n",
       "    }\n",
       "\n",
       "    .dataframe thead th {\n",
       "        text-align: left;\n",
       "    }\n",
       "\n",
       "    .dataframe tbody tr th {\n",
       "        vertical-align: top;\n",
       "    }\n",
       "</style>\n",
       "<table border=\"1\" class=\"dataframe\">\n",
       "  <thead>\n",
       "    <tr style=\"text-align: right;\">\n",
       "      <th></th>\n",
       "      <th>model</th>\n",
       "      <th>test_score</th>\n",
       "      <th>train_score</th>\n",
       "    </tr>\n",
       "  </thead>\n",
       "  <tbody>\n",
       "    <tr>\n",
       "      <th>0</th>\n",
       "      <td>knn</td>\n",
       "      <td>0.948052</td>\n",
       "      <td>0.969565</td>\n",
       "    </tr>\n",
       "    <tr>\n",
       "      <th>1</th>\n",
       "      <td>logistic</td>\n",
       "      <td>1.000000</td>\n",
       "      <td>1.000000</td>\n",
       "    </tr>\n",
       "    <tr>\n",
       "      <th>2</th>\n",
       "      <td>tree</td>\n",
       "      <td>1.000000</td>\n",
       "      <td>1.000000</td>\n",
       "    </tr>\n",
       "    <tr>\n",
       "      <th>3</th>\n",
       "      <td>svm</td>\n",
       "      <td>0.974026</td>\n",
       "      <td>0.997826</td>\n",
       "    </tr>\n",
       "    <tr>\n",
       "      <th>4</th>\n",
       "      <td>rf</td>\n",
       "      <td>1.000000</td>\n",
       "      <td>1.000000</td>\n",
       "    </tr>\n",
       "    <tr>\n",
       "      <th>5</th>\n",
       "      <td>gbm</td>\n",
       "      <td>1.000000</td>\n",
       "      <td>1.000000</td>\n",
       "    </tr>\n",
       "  </tbody>\n",
       "</table>\n",
       "</div>"
      ],
      "text/plain": [
       "      model  test_score  train_score\n",
       "0       knn    0.948052     0.969565\n",
       "1  logistic    1.000000     1.000000\n",
       "2      tree    1.000000     1.000000\n",
       "3       svm    0.974026     0.997826\n",
       "4        rf    1.000000     1.000000\n",
       "5       gbm    1.000000     1.000000"
      ]
     },
     "execution_count": 225,
     "metadata": {},
     "output_type": "execute_result"
    }
   ],
   "source": [
    "final_df = pd.DataFrame({\n",
    "    'model' :['knn','logistic','tree','svm','rf','gbm'],\n",
    "    'train_score':[knn.train_score[0],logistic.train_score[0],tree.train_score[0],svm.train_score[0],rf.train_score[0],gbm.train_score[0]],\n",
    "    'test_score':[knn.test_score[0],logistic.test_score[0],tree.test_score[0],svm.test_score[0],rf.test_score[0],gbm.test_score[0]]\n",
    "})\n",
    "\n",
    "final_df"
   ]
  },
  {
   "cell_type": "code",
   "execution_count": 226,
   "metadata": {},
   "outputs": [
    {
     "data": {
      "text/plain": [
       "<matplotlib.text.Text at 0x12a5b160>"
      ]
     },
     "execution_count": 226,
     "metadata": {},
     "output_type": "execute_result"
    },
    {
     "data": {
      "image/png": "[encoded data removed]",
      "text/plain": [
       "<matplotlib.figure.Figure at 0x12920ef0>"
      ]
     },
     "metadata": {},
     "output_type": "display_data"
    }
   ],
   "source": [
    "fig,axes = plt.subplots(1,2,figsize=(14,5))\n",
    "\n",
    "ax1 = sns.barplot(x='model',y='train_score',data=final_df,ax=axes[0],palette='Set3')\n",
    "ax1.set_title('Training Accuracy',fontsize=15)\n",
    "\n",
    "ax2= sns.barplot(x ='model',y='test_score',data=final_df,ax=axes[1],palette='Set3')\n",
    "ax2.set_title('Testing Accuracy',fontsize = 15)"
   ]
  },
  {
   "cell_type": "markdown",
   "metadata": {},
   "source": [
    "# -------------------------------------------------------------------------------------------------------------\n"
   ]
  },
  {
   "cell_type": "markdown",
   "metadata": {
    "collapsed": true
   },
   "source": [
    "## Modeling (manual parameter tuning)\n",
    "\n",
    "    Train score : .777"
   ]
  },
  {
   "cell_type": "code",
   "execution_count": 227,
   "metadata": {
    "collapsed": true
   },
   "outputs": [],
   "source": [
    "from sklearn.ensemble import RandomForestClassifier,GradientBoostingClassifier\n",
    "from sklearn.tree import DecisionTreeClassifier\n",
    "from sklearn.model_selection import StratifiedShuffleSplit\n",
    "from sklearn.metrics import roc_curve, auc , accuracy_score, precision_score, recall_score, f1_score\n",
    "\n",
    "def classification__model(model,X,y,cv=10):\n",
    "    training_score =[]\n",
    "    testing_score=[]\n",
    "    auc_score=[]\n",
    "    p_score=[]\n",
    "    r_score=[]\n",
    "    f_score=[]\n",
    "    \n",
    "    print('Stratified Sampling is used')\n",
    "    model.fit(X,y)\n",
    "    print('Accuracy :{}'.format(model.score(X,y)))\n",
    "    \n",
    "    skf = StratifiedShuffleSplit(n_splits=cv)\n",
    "    \n",
    "    for train_index,test_index in skf.split(X,y):\n",
    "        X_train,X_test = X.iloc[train_index],X.iloc[test_index]\n",
    "        y_train,y_test = y.iloc[train_index],y.iloc[test_index]\n",
    "        \n",
    "        model = model.fit(X_train,y_train)\n",
    "        model_predicted = model.predict(X_test)\n",
    "        \n",
    "        if isinstance(model,GradientBoostingClassifier):\n",
    "            y_score = model.decision_function(X_test)\n",
    "            fpr, tpr, _ = roc_curve(y_test, y_score)\n",
    "            auc_score.append(auc(fpr, tpr))\n",
    "        \n",
    "        training_score.append(accuracy_score(y_test,model_predicted))\n",
    "        testing_score.append(accuracy_score(y_test,model_predicted))\n",
    "        p_score.append(precision_score(y_test,model_predicted))\n",
    "        r_score.append(recall_score(y_test,model_predicted))\n",
    "        f_score.append(f1_score(y_test,model_predicted))\n",
    "    \n",
    "    if isinstance(model,GradientBoostingClassifier):\n",
    "        print('Cross Validation ( AUC ):{:.3f}'.format(np.mean(auc_score)))\n",
    "        \n",
    "    print('Cross Validation (Training score - Accuracy ):{:.3f}'.format(np.mean(training_score)))\n",
    "    print('Cross Validation (Testing score - Accuracy ):{:.3f}'.format(np.mean(testing_score)))\n",
    "    print('Cross Validation ( Precision ):{:.3f}'.format(np.mean(p_score)))\n",
    "    print('Cross Validation ( Recall ):{:.3f}'.format(np.mean(r_score)))\n",
    "    print('Cross Validation ( F1 score ):{:.3f}'.format(np.mean(f_score)))\n",
    "    \n",
    "    return(model.fit(X,y))"
   ]
  },
  {
   "cell_type": "code",
   "execution_count": 235,
   "metadata": {},
   "outputs": [
    {
     "data": {
      "text/plain": [
       "Index(['Credit_History', 'Dependents', 'Education', 'Gender', 'Married',\n",
       "       'Property_Area', 'Self_Employed', 'EMI_log'],\n",
       "      dtype='object')"
      ]
     },
     "execution_count": 235,
     "metadata": {},
     "output_type": "execute_result"
    }
   ],
   "source": [
    "predictors = new_train.drop(['Loan_ID','ApplicantIncome','CoapplicantIncome','LoanAmount','EMI','TotalIncome',\n",
    "                             'Loan_Amount_Term','Loan_Status'],axis ='columns').columns\n",
    "\n",
    "X = new_train[predictors]\n",
    "y = new_train.Loan_Status\n",
    "\n",
    "final_test_data = new_test[predictors]\n",
    "\n",
    "predictors"
   ]
  },
  {
   "cell_type": "code",
   "execution_count": 236,
   "metadata": {},
   "outputs": [
    {
     "name": "stdout",
     "output_type": "stream",
     "text": [
      "Stratified Sampling is used\n",
      "Accuracy :0.8094462540716613\n",
      "Cross Validation (Training score - Accuracy ):0.795\n",
      "Cross Validation (Testing score - Accuracy ):0.795\n",
      "Cross Validation ( Precision ):0.776\n",
      "Cross Validation ( Recall ):0.993\n",
      "Cross Validation ( F1 score ):0.871\n"
     ]
    }
   ],
   "source": [
    "model_rf = RandomForestClassifier(n_estimators=100,min_samples_leaf=25,n_jobs=3,max_depth=7,random_state=1)\n",
    "_ = classification__model(model_rf,X,y)"
   ]
  },
  {
   "cell_type": "code",
   "execution_count": 256,
   "metadata": {},
   "outputs": [
    {
     "name": "stdout",
     "output_type": "stream",
     "text": [
      "Stratified Sampling is used\n",
      "Accuracy :0.8094462540716613\n",
      "Cross Validation (Training score - Accuracy ):0.821\n",
      "Cross Validation (Testing score - Accuracy ):0.821\n",
      "Cross Validation ( Precision ):0.815\n",
      "Cross Validation ( Recall ):0.960\n",
      "Cross Validation ( F1 score ):0.882\n"
     ]
    }
   ],
   "source": [
    "model_tree = DecisionTreeClassifier(max_depth=10,min_samples_leaf=25,random_state=1)\n",
    "_ = classification__model(model_tree,X,y)"
   ]
  },
  {
   "cell_type": "code",
   "execution_count": 238,
   "metadata": {},
   "outputs": [
    {
     "name": "stdout",
     "output_type": "stream",
     "text": [
      "Stratified Sampling is used\n",
      "Accuracy :0.8094462540716613\n",
      "Cross Validation ( AUC ):0.751\n",
      "Cross Validation (Training score - Accuracy ):0.815\n",
      "Cross Validation (Testing score - Accuracy ):0.815\n",
      "Cross Validation ( Precision ):0.797\n",
      "Cross Validation ( Recall ):0.984\n",
      "Cross Validation ( F1 score ):0.880\n"
     ]
    }
   ],
   "source": [
    "model_gbm = GradientBoostingClassifier(n_estimators=100,learning_rate=0.01,max_depth=7,min_samples_leaf=25,random_state=1)\n",
    "_ = classification__model(model_gbm,X,y)"
   ]
  },
  {
   "cell_type": "code",
   "execution_count": 239,
   "metadata": {},
   "outputs": [
    {
     "data": {
      "text/plain": [
       "Credit_History    0.472689\n",
       "EMI_log           0.215506\n",
       "Property_Area     0.121391\n",
       "Married           0.075353\n",
       "Education         0.052143\n",
       "Dependents        0.044930\n",
       "Gender            0.011877\n",
       "Self_Employed     0.006110\n",
       "dtype: float64"
      ]
     },
     "execution_count": 239,
     "metadata": {},
     "output_type": "execute_result"
    }
   ],
   "source": [
    "# Importance of features based on RandomForest\n",
    "pd.Series(model_rf.feature_importances_,index=predictors).sort_values(ascending=False)"
   ]
  },
  {
   "cell_type": "markdown",
   "metadata": {},
   "source": [
    "## Apply custom cutoff on Random Forest"
   ]
  },
  {
   "cell_type": "code",
   "execution_count": 257,
   "metadata": {
    "collapsed": true
   },
   "outputs": [],
   "source": [
    "from sklearn.metrics import f1_score,precision_score,recall_score\n",
    "from sklearn.model_selection import  cross_val_score\n",
    "\n",
    "def cutoff_predict(model,X,cutoff):\n",
    "    return((model.predict_proba(X)[:,1]>cutoff).astype(int))\n",
    "\n",
    "scores_f1 =[]\n",
    "scores_precision =[]\n",
    "scores_recall =[]\n",
    "\n",
    "def custom_f1(cutoff):\n",
    "    def f1_cutoff(model,X,y):\n",
    "        ypred = cutoff_predict(model,X,cutoff)\n",
    "        return(f1_score(y,ypred))\n",
    "    return(f1_cutoff)\n",
    "\n",
    "def custom_precision(cutoff):\n",
    "    def precision_cutoff(model,X,y):\n",
    "        ypred = cutoff_predict(model,X,cutoff)\n",
    "        return(precision_score(y,ypred))\n",
    "    return(precision_cutoff)\n",
    "\n",
    "def custom_recall(cutoff):\n",
    "    def recall_cutoff(model,X,y):\n",
    "        ypred = cutoff_predict(model,X,cutoff)\n",
    "        return(recall_score(y,ypred))\n",
    "    return(recall_cutoff)\n",
    "    \n",
    "for cutoff in np.arange(0.1,0.9,0.1):\n",
    "    model = DecisionTreeClassifier(max_depth=10,min_samples_leaf=25,random_state=1)\n",
    "    validated_f1 = cross_val_score(model,X,y,cv=10,scoring = custom_f1(cutoff))\n",
    "    validated_precision = cross_val_score(model,X,y,cv=10,scoring = custom_precision(cutoff))\n",
    "    validated_recall = cross_val_score(model,X,y,cv=10,scoring = custom_recall(cutoff))\n",
    "    scores_f1.append(validated_f1)\n",
    "    scores_precision.append(validated_precision)\n",
    "    scores_recall.append(validated_recall)"
   ]
  },
  {
   "cell_type": "code",
   "execution_count": 258,
   "metadata": {},
   "outputs": [
    {
     "data": {
      "text/plain": [
       "<matplotlib.text.Text at 0x1327d240>"
      ]
     },
     "execution_count": 258,
     "metadata": {},
     "output_type": "execute_result"
    },
    {
     "data": {
      "image/png": "[encoded data removed]",
      "text/plain": [
       "<matplotlib.figure.Figure at 0x12cc35c0>"
      ]
     },
     "metadata": {},
     "output_type": "display_data"
    }
   ],
   "source": [
    "fig , axes = plt.subplots(1,3,figsize=(16,6))\n",
    "\n",
    "sns.boxplot(y = scores_f1,x = np.arange(0.1,0.9,0.1),ax=axes[0])\n",
    "plt.title('F score for each tree')\n",
    "plt.xlabel('each cutoff value')\n",
    "plt.ylabel('custom F score')\n",
    "\n",
    "ax1 = sns.boxplot(y = scores_precision,x = np.arange(0.1,0.9,0.1),ax=axes[1])\n",
    "ax1.set_title('F score for each tree')\n",
    "ax1.set_xlabel('each cutoff value')\n",
    "ax1.set_ylabel('custom precision score')\n",
    "\n",
    "ax2 = sns.boxplot(y = scores_recall,x = np.arange(0.1,0.9,0.1),ax=axes[2])\n",
    "ax2.set_title('F score for each tree')\n",
    "ax2.set_xlabel('each cutoff value')\n",
    "ax2.set_ylabel('custom recall score')"
   ]
  },
  {
   "cell_type": "code",
   "execution_count": 261,
   "metadata": {
    "collapsed": true
   },
   "outputs": [],
   "source": [
    "## Generate CSV\n",
    "#predicted = model_tree.predict(final_test_data[predictors])\n",
    "predicted = cutoff_predict(model_tree,final_test_data,0.4)\n",
    "predicted = np.where(predicted==1,'Y','N')\n",
    "\n",
    "submit_df = pd.DataFrame({'Loan_ID':test.Loan_ID,'Loan_Status':predicted})\n",
    "submit_df.to_csv('manual_tree.csv',index=False)"
   ]
  },
  {
   "cell_type": "markdown",
   "metadata": {},
   "source": [
    "# -----------------------------------------------------------------------------------------------------"
   ]
  },
  {
   "cell_type": "markdown",
   "metadata": {},
   "source": [
    "## GridSearch\n",
    "\n",
    "    Test Score : .777"
   ]
  },
  {
   "cell_type": "code",
   "execution_count": 91,
   "metadata": {
    "collapsed": true
   },
   "outputs": [],
   "source": [
    "from sklearn.model_selection import  GridSearchCV"
   ]
  },
  {
   "cell_type": "code",
   "execution_count": 79,
   "metadata": {},
   "outputs": [
    {
     "data": {
      "text/plain": [
       "Index(['Credit_History', 'Dependents', 'Education', 'Gender', 'Married',\n",
       "       'Property_Area', 'Self_Employed', 'TotalIncome', 'EMI'],\n",
       "      dtype='object')"
      ]
     },
     "execution_count": 79,
     "metadata": {},
     "output_type": "execute_result"
    }
   ],
   "source": [
    "predictors = new_train.drop(['Loan_ID','ApplicantIncome','CoapplicantIncome','LoanAmount',\n",
    "                             'Loan_Amount_Term','Loan_Status'],axis ='columns').columns\n",
    "\n",
    "X = new_train[predictors]\n",
    "y = new_train.Loan_Status\n",
    "\n",
    "final_test_data = new_test[predictors]\n",
    "\n",
    "predictors"
   ]
  },
  {
   "cell_type": "code",
   "execution_count": 89,
   "metadata": {
    "collapsed": true
   },
   "outputs": [],
   "source": [
    "grid_rf = {'max_depth':np.arange(1,15,1),'n_estimators':np.arange(100,600,200),'min_samples_leaf':[25,35,50]}\n",
    "grid_gbm = {'max_depth':np.arange(1,15,1),'n_estimators':np.arange(100,600,200),\n",
    "            'min_samples_leaf':[25,35,50],'learning_rate':[.1,.01,.001]}\n",
    "grid_tree = {'max_depth':np.arange(1,15,1),'min_samples_leaf':[25,35,50]}"
   ]
  },
  {
   "cell_type": "code",
   "execution_count": 92,
   "metadata": {
    "collapsed": true
   },
   "outputs": [],
   "source": [
    "rf_mod = GridSearchCV(RandomForestClassifier(),param_grid=grid_rf,\n",
    "                        n_jobs=3,scoring='roc_auc',return_train_score=False).fit(X,y)"
   ]
  },
  {
   "cell_type": "code",
   "execution_count": 93,
   "metadata": {
    "collapsed": true
   },
   "outputs": [],
   "source": [
    "gbm_mod = GridSearchCV(GradientBoostingClassifier(),param_grid=grid_gbm,\n",
    "                        n_jobs=3,scoring='roc_auc',return_train_score=False).fit(X,y)"
   ]
  },
  {
   "cell_type": "code",
   "execution_count": 94,
   "metadata": {
    "collapsed": true
   },
   "outputs": [],
   "source": [
    "tree_mod = GridSearchCV(DecisionTreeClassifier(),param_grid=grid_tree,\n",
    "                        n_jobs=3,scoring='roc_auc',return_train_score=False).fit(X,y)"
   ]
  },
  {
   "cell_type": "code",
   "execution_count": 100,
   "metadata": {},
   "outputs": [
    {
     "name": "stdout",
     "output_type": "stream",
     "text": [
      "--- Random Forest ---\n",
      "Best Parameter :{'max_depth': 11, 'min_samples_leaf': 25, 'n_estimators': 300}\n",
      "AUC :0.7410375522055451\n"
     ]
    }
   ],
   "source": [
    "print('--- Random Forest ---')\n",
    "print('Best Parameter :{}'.format(rf_mod.best_params_))\n",
    "print('AUC :{}'.format(rf_mod.best_score_))"
   ]
  },
  {
   "cell_type": "code",
   "execution_count": 99,
   "metadata": {},
   "outputs": [
    {
     "name": "stdout",
     "output_type": "stream",
     "text": [
      "--- GBM ---\n",
      "Best Parameter :{'learning_rate': 0.1, 'max_depth': 1, 'min_samples_leaf': 50, 'n_estimators': 500}\n",
      "AUC :0.7459399617668122\n"
     ]
    }
   ],
   "source": [
    "print('--- GBM ---')\n",
    "print('Best Parameter :{}'.format(gbm_mod.best_params_))\n",
    "print('AUC :{}'.format(gbm_mod.best_score_))"
   ]
  },
  {
   "cell_type": "code",
   "execution_count": 98,
   "metadata": {},
   "outputs": [
    {
     "name": "stdout",
     "output_type": "stream",
     "text": [
      "--- Decision Tree ---\n",
      "Best Parameter :{'max_depth': 4, 'min_samples_leaf': 25}\n",
      "AUC :0.7115376291422036\n"
     ]
    }
   ],
   "source": [
    "print('--- Decision Tree ---')\n",
    "print('Best Parameter :{}'.format(tree_mod.best_params_))\n",
    "print('AUC :{}'.format(tree_mod.best_score_))"
   ]
  },
  {
   "cell_type": "code",
   "execution_count": 129,
   "metadata": {
    "collapsed": true
   },
   "outputs": [],
   "source": [
    "# Generate CSV\n",
    "predicted = tree_mod.predict(final_test_data[predictors])\n",
    "predicted = np.where(predicted==1,'Y','N')\n",
    "\n",
    "submit_df = pd.DataFrame({'Loan_ID':test.Loan_ID,'Loan_Status':predicted})\n",
    "submit_df.to_csv('grid_tree.csv',index=False)"
   ]
  },
  {
   "cell_type": "code",
   "execution_count": 130,
   "metadata": {
    "collapsed": true
   },
   "outputs": [],
   "source": [
    "X_train, X_test, y_train, y_test = train_test_split(X,y)"
   ]
  },
  {
   "cell_type": "code",
   "execution_count": 131,
   "metadata": {
    "collapsed": true
   },
   "outputs": [],
   "source": [
    "model = RandomForestClassifier().fit(X_train,y_train)"
   ]
  },
  {
   "cell_type": "code",
   "execution_count": 133,
   "metadata": {
    "collapsed": true
   },
   "outputs": [],
   "source": [
    "model_prob = model.predict_proba(X_test)\n",
    "model_predicted = model.predict(X_test)"
   ]
  },
  {
   "cell_type": "code",
   "execution_count": 139,
   "metadata": {
    "collapsed": true
   },
   "outputs": [],
   "source": [
    "# Precission Vs Recall curve Logistic regression\n",
    "from sklearn.metrics import precision_recall_curve, log_loss\n",
    "\n",
    "precision, recall, thresholds = precision_recall_curve(y_test, model_predicted)"
   ]
  }
 ],
 "metadata": {
  "kernelspec": {
   "display_name": "Python 3",
   "language": "python",
   "name": "python3"
  },
  "language_info": {
   "codemirror_mode": {
    "name": "ipython",
    "version": 3
   },
   "file_extension": ".py",
   "mimetype": "text/x-python",
   "name": "python",
   "nbconvert_exporter": "python",
   "pygments_lexer": "ipython3",
   "version": "3.6.1"
  }
 },
 "nbformat": 4,
 "nbformat_minor": 2
}

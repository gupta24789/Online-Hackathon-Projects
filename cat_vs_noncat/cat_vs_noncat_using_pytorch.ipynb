{
 "cells": [
  {
   "cell_type": "code",
   "execution_count": null,
   "metadata": {},
   "outputs": [],
   "source": [
    "## Hyperparameters are tuned in this notebook"
   ]
  },
  {
   "cell_type": "code",
   "execution_count": 1,
   "metadata": {},
   "outputs": [],
   "source": [
    "import h5py\n",
    "import warnings\n",
    "from tqdm.auto import tqdm\n",
    "import pandas as pd\n",
    "import numpy as np\n",
    "\n",
    "import torch\n",
    "import torch.nn as nn\n",
    "import torch.functional as F\n",
    "import torch.optim as optim\n",
    "from torch.utils.data import Dataset, DataLoader, RandomSampler, SequentialSampler\n",
    "\n",
    "import matplotlib.pyplot as plt"
   ]
  },
  {
   "cell_type": "code",
   "execution_count": 2,
   "metadata": {},
   "outputs": [],
   "source": [
    "plt.rcParams['figure.figsize'] = (8,6)\n",
    "warnings.filterwarnings('ignore')"
   ]
  },
  {
   "cell_type": "code",
   "execution_count": 3,
   "metadata": {},
   "outputs": [],
   "source": [
    "## Define data file paths\n",
    "TRAIN_FILE_PATH = './datasets/train_catvnoncat.h5'\n",
    "TEST_FILE_PATH = './datasets/test_catvnoncat.h5'"
   ]
  },
  {
   "cell_type": "code",
   "execution_count": 4,
   "metadata": {},
   "outputs": [],
   "source": [
    "## Utlities\n",
    "def load_dataset(train_file_path, test_file_path):\n",
    "    \n",
    "    train = h5py.File(train_file_path)\n",
    "    test = h5py.File(test_file_path)\n",
    "    \n",
    "    labels = np.array(train['list_classes'].value, dtype = str)\n",
    "    \n",
    "    X_train = train['train_set_x'].value\n",
    "    y_train = train['train_set_y'].value\n",
    "    \n",
    "    X_test = test['test_set_x'].value\n",
    "    y_test = test['test_set_y'].value\n",
    "    \n",
    "    print(f\"Train data shape : {X_train.shape}\")\n",
    "    print(f\"Test data shape : {X_test.shape}\")\n",
    "    print(f\"Number of classes : {labels}\")\n",
    "    return X_train, y_train, X_test, y_test, labels"
   ]
  },
  {
   "cell_type": "code",
   "execution_count": 5,
   "metadata": {},
   "outputs": [
    {
     "name": "stdout",
     "output_type": "stream",
     "text": [
      "Train data shape : (209, 64, 64, 3)\n",
      "Test data shape : (50, 64, 64, 3)\n",
      "Number of classes : ['non-cat' 'cat']\n"
     ]
    }
   ],
   "source": [
    "X_train, y_train, X_test, y_test, labels = load_dataset(TRAIN_FILE_PATH, TEST_FILE_PATH)"
   ]
  },
  {
   "cell_type": "code",
   "execution_count": 6,
   "metadata": {},
   "outputs": [
    {
     "name": "stdout",
     "output_type": "stream",
     "text": [
      "\n",
      "    Below image is : non-cat\n"
     ]
    },
    {
     "data": {
      "image/png": "[encoded data removed]",
      "text/plain": [
       "<Figure size 576x432 with 1 Axes>"
      ]
     },
     "metadata": {
      "needs_background": "light"
     },
     "output_type": "display_data"
    }
   ],
   "source": [
    "## Check the images and labels\n",
    "index = 30\n",
    "print(f\"\\n    Below image is : {labels[y_train[index]]}\")\n",
    "_ = plt.imshow(X_train[index,:,:,:],)"
   ]
  },
  {
   "cell_type": "markdown",
   "metadata": {},
   "source": [
    "## Normalize Inputs"
   ]
  },
  {
   "cell_type": "code",
   "execution_count": 7,
   "metadata": {},
   "outputs": [],
   "source": [
    "X_train = X_train/255.0\n",
    "X_test = X_test/255.0"
   ]
  },
  {
   "cell_type": "markdown",
   "metadata": {},
   "source": [
    "## Create Feature Vector"
   ]
  },
  {
   "cell_type": "code",
   "execution_count": 8,
   "metadata": {},
   "outputs": [],
   "source": [
    "X_train = X_train.reshape([X_train.shape[0],-1])\n",
    "y_train = y_train.reshape([y_train.shape[0],1])\n",
    "\n",
    "X_test = X_test.reshape([X_test.shape[0],-1])\n",
    "y_test = y_test.reshape([y_test.shape[0],1])"
   ]
  },
  {
   "cell_type": "code",
   "execution_count": 9,
   "metadata": {},
   "outputs": [
    {
     "name": "stdout",
     "output_type": "stream",
     "text": [
      "Train data shape : (209, 12288)\n",
      "Test data shape : (50, 12288)\n"
     ]
    }
   ],
   "source": [
    "print(f\"Train data shape : {X_train.shape}\")\n",
    "print(f\"Test data shape : {X_test.shape}\")"
   ]
  },
  {
   "cell_type": "markdown",
   "metadata": {},
   "source": [
    "## Converting data to tensor"
   ]
  },
  {
   "cell_type": "code",
   "execution_count": 10,
   "metadata": {},
   "outputs": [],
   "source": [
    "X_train_tensor = torch.tensor(X_train, dtype = torch.float32)\n",
    "y_train_tensor = torch.tensor(y_train, dtype = torch.float32)\n",
    "X_test_tensor = torch.tensor(X_test, dtype = torch.float32)\n",
    "y_test_tensor = torch.tensor(y_test, dtype = torch.float32)"
   ]
  },
  {
   "cell_type": "code",
   "execution_count": 11,
   "metadata": {},
   "outputs": [],
   "source": [
    "def accuracy(y_pred , y_true):\n",
    "    y_true = y_true.flatten().numpy()\n",
    "    y_pred = y_pred.flatten().numpy()\n",
    "    \n",
    "    accuarcy = np.round(np.mean(y_pred==y_true)* 100,2)\n",
    "    return accuarcy"
   ]
  },
  {
   "cell_type": "markdown",
   "metadata": {},
   "source": [
    "## Model Implementation"
   ]
  },
  {
   "cell_type": "code",
   "execution_count": 12,
   "metadata": {},
   "outputs": [],
   "source": [
    "class SingleLayerLinearModel(nn.Module):\n",
    "    \n",
    "    def __init__(self, input_features):\n",
    "        super(SingleLayerLinearModel,self).__init__()\n",
    "        self.linear1 = nn.Linear(in_features=input_features, out_features = 1)\n",
    "        self.sigmoid = nn.Sigmoid()\n",
    "    \n",
    "    def forward(self,X):\n",
    "        z = self.linear1(X)\n",
    "        a = self.sigmoid(z)\n",
    "        return a\n",
    "    \n",
    "    def predict(self,X):\n",
    "        a = self.forward(X)\n",
    "        y_pred = a.flatten()>0.5 if 1 else 0\n",
    "        return y_pred\n",
    "    \n",
    "    \n",
    "class TwoLayerLinearModel(nn.Module):\n",
    "    \n",
    "    def __init__(self, input_features):\n",
    "        super(TwoLayerLinearModel,self).__init__()\n",
    "        self.linear1 = nn.Linear(in_features=input_features, out_features = 512)\n",
    "        self.linear2 = nn.Linear(in_features=512, out_features = 1)\n",
    "        self.relu = nn.ReLU()\n",
    "        self.sigmoid = nn.Sigmoid()\n",
    "    \n",
    "    def forward(self,X):\n",
    "        a1 = self.relu(self.linear1(X))\n",
    "        a2 = self.sigmoid(self.linear2(a1))\n",
    "        return a2\n",
    "    \n",
    "    def predict(self,X):\n",
    "        a = self.forward(X)\n",
    "        y_pred = a.flatten()>0.5 if 1 else 0\n",
    "        return y_pred"
   ]
  },
  {
   "cell_type": "code",
   "execution_count": 13,
   "metadata": {},
   "outputs": [],
   "source": [
    "epochs = 2500\n",
    "learning_rate = 1e-4"
   ]
  },
  {
   "cell_type": "markdown",
   "metadata": {},
   "source": [
    "## Single layer"
   ]
  },
  {
   "cell_type": "code",
   "execution_count": 14,
   "metadata": {},
   "outputs": [
    {
     "name": "stdout",
     "output_type": "stream",
     "text": [
      "Train accuracy :  89.95\n",
      "Test accuracy :  64.0\n"
     ]
    }
   ],
   "source": [
    "model = SingleLayerLinearModel(X_train.shape[1])\n",
    "optimizer = optim.Adam(model.parameters(), lr = learning_rate)\n",
    "loss_fn  = nn.BCEWithLogitsLoss(reduction='mean')\n",
    "\n",
    "for epoch in range(epochs):\n",
    "    \n",
    "    ## model training\n",
    "    model.train()\n",
    "    \n",
    "    ## Forward\n",
    "    a = model.forward(X_train_tensor)\n",
    "    \n",
    "    ## calculate loss\n",
    "    loss = loss_fn(a,y_train_tensor)\n",
    "    \n",
    "    # backward\n",
    "    optimizer.zero_grad()\n",
    "    \n",
    "    loss.backward()\n",
    "    optimizer.step()\n",
    "\n",
    "y_pred_train = model.predict(X_train_tensor)\n",
    "print(\"Train accuracy : \",accuracy(y_pred_train,y_train_tensor))\n",
    "\n",
    "y_pred_test = model.predict(X_test_tensor)\n",
    "print(\"Test accuracy : \",accuracy(y_pred_test,y_test_tensor))"
   ]
  },
  {
   "cell_type": "markdown",
   "metadata": {},
   "source": [
    "## Two Layer"
   ]
  },
  {
   "cell_type": "code",
   "execution_count": 15,
   "metadata": {},
   "outputs": [
    {
     "name": "stdout",
     "output_type": "stream",
     "text": [
      "Train accuracy :  90.91\n",
      "Test accuracy :  60.0\n"
     ]
    }
   ],
   "source": [
    "model = TwoLayerLinearModel(X_train.shape[1])\n",
    "optimizer = optim.Adam(model.parameters(), lr = learning_rate)\n",
    "loss_fn  = nn.BCEWithLogitsLoss(reduction='mean')\n",
    "\n",
    "for epoch in range(epochs):\n",
    "    \n",
    "    ## model training\n",
    "    model.train()\n",
    "    \n",
    "    ## Forward\n",
    "    a = model.forward(X_train_tensor)\n",
    "    \n",
    "    ## calculate loss\n",
    "    loss = loss_fn(a,y_train_tensor)\n",
    "    \n",
    "    # backward\n",
    "    optimizer.zero_grad()\n",
    "    \n",
    "    loss.backward()\n",
    "    optimizer.step()\n",
    "\n",
    "y_pred_train = model.predict(X_train_tensor)\n",
    "print(\"Train accuracy : \",accuracy(y_pred_train,y_train_tensor))\n",
    "\n",
    "y_pred_test = model.predict(X_test_tensor)\n",
    "print(\"Test accuracy : \",accuracy(y_pred_test,y_test_tensor))"
   ]
  },
  {
   "cell_type": "markdown",
   "metadata": {},
   "source": [
    "## Another way to write model in Pytorch"
   ]
  },
  {
   "cell_type": "code",
   "execution_count": 16,
   "metadata": {},
   "outputs": [],
   "source": [
    "from pytorch_lightning.callbacks.base import Callback\n",
    "from pytorch_lightning import Trainer"
   ]
  },
  {
   "cell_type": "code",
   "execution_count": 17,
   "metadata": {},
   "outputs": [],
   "source": [
    "# class PlotsCallback(Callback):\n",
    "    \n",
    "#     def __init__(self):\n",
    "#         self.train_losses = []\n",
    "#         self.test_losses = []\n",
    "#         self.fig, self.axes = plt.subplots(1,1)\n",
    "        \n",
    "#     def on_epoch_end(self, train_loss, val_loss):\n",
    "        \n",
    "#         self.train_losses.append(train_loss)\n",
    "#         self.test_losses.append(val_loss)\n",
    "        \n",
    "        \n",
    "#         df = pd.concat([pd.DataFrame(self.train_losses), pd.DataFrame(self.test_losses)], axis=1)\n",
    "#         df.columns =['train','val']\n",
    "#         df.plot(ax = self.axes)\n",
    "#         plt.show()\n",
    "# #         self.axes.clear()"
   ]
  },
  {
   "cell_type": "code",
   "execution_count": 18,
   "metadata": {},
   "outputs": [],
   "source": [
    "class LinearModel(nn.Module):\n",
    "    \n",
    "    def __init__(self, input_features):\n",
    "        super(LinearModel,self).__init__()\n",
    "        self.relu = nn.ReLU()\n",
    "        self.sigmoid = nn.Sigmoid()\n",
    "        \n",
    "        self.linear1 = nn.Linear(in_features=input_features, out_features = 1024)\n",
    "        self.linear2 = nn.Linear(in_features=1024, out_features = 512)\n",
    "        self.linear3 = nn.Linear(in_features=512, out_features = 1)\n",
    "        \n",
    "    \n",
    "    def forward(self,X):\n",
    "        a1 = self.relu(self.linear1(X))\n",
    "        a2 = self.relu(self.linear2(a1))\n",
    "        a3 = self.sigmoid(self.linear3(a2))\n",
    "        return a3"
   ]
  },
  {
   "cell_type": "code",
   "execution_count": 19,
   "metadata": {},
   "outputs": [],
   "source": [
    "class CustomDataset(torch.utils.data.Dataset):\n",
    "    \n",
    "    def __init__(self, X,y):\n",
    "        self.X = X\n",
    "        self.y = y\n",
    "    \n",
    "    def __getitem__(self, index):\n",
    "        input_dict = {\"X\": self.X[index],\"y\": self.y[index]}\n",
    "        return input_dict\n",
    "    \n",
    "    def __len__(self):\n",
    "        return len(self.X)"
   ]
  },
  {
   "cell_type": "code",
   "execution_count": 28,
   "metadata": {},
   "outputs": [],
   "source": [
    "def accuracy(y_pred , y_true):\n",
    "    \n",
    "    y_pred = np.array(y_pred)\n",
    "    y_true = np.array(y_true)\n",
    "    accuarcy = np.round(np.mean(y_pred==y_true)* 100,2)\n",
    "    return accuarcy\n",
    "\n",
    "def evaluate(dataloader):\n",
    "    \n",
    "    ## dont modify the model parametr\n",
    "    model.eval()\n",
    "    \n",
    "    y_pred_list = []\n",
    "    y_true_list = []\n",
    "    \n",
    "    for dataset in dataloader:\n",
    "        X,y = dataset[\"X\"], dataset[\"y\"]\n",
    "        y_logits = model.forward(X)\n",
    "        y_logits = y_logits.flatten()\n",
    "        y_pred = y_logits>=0.5 if 1.0 else 0.0\n",
    "        \n",
    "        y_pred_list += list(y_pred.numpy())\n",
    "        y_true_list += list(y.flatten().numpy())\n",
    "    \n",
    "    \n",
    "    return y_pred_list, y_true_list\n",
    "\n",
    "def train(train_dataloader, test_dataloader, epochs):\n",
    "     \n",
    "    training_loss_list = []\n",
    "    validation_loss_list = []\n",
    "    \n",
    "    loss_progress_bar = tqdm(range(epochs),leave = False,disable = False)\n",
    "    \n",
    "    for epoch in range(epochs):\n",
    "        \n",
    "        training_running_loss = 0\n",
    "        validation_running_loss = 0\n",
    "        \n",
    "        ## Training\n",
    "        model.train()\n",
    "        \n",
    "        progress_bar = tqdm(train_dataloader,\n",
    "                            desc=\"Epoch :{:1d}\".format(epoch),\n",
    "                            leave = False,\n",
    "                            disable = False\n",
    "                           )\n",
    "        \n",
    "        for batch in progress_bar:\n",
    "            X,y = batch[\"X\"], batch[\"y\"]\n",
    "            \n",
    "            y_logits = model.forward(X)\n",
    "            \n",
    "            loss = loss_fn(y_logits, y)\n",
    "            \n",
    "            optimizer.zero_grad()\n",
    "            \n",
    "            loss.backward()\n",
    "            \n",
    "            ## gradient clipping\n",
    "            nn.utils.clip_grad_norm_(model.parameters(),1.0)\n",
    "            \n",
    "            ## optimizer\n",
    "            optimizer.step()\n",
    "            \n",
    "            training_running_loss += loss.item()\n",
    "            progress_bar.set_postfix({\"Train Loss \" : \"{:.3f}\".format(loss.item()/len(batch))})\n",
    "        \n",
    "        \n",
    "        ## Validation\n",
    "        model.eval()\n",
    "        \n",
    "        for dataset in test_dataloader:\n",
    "            X,y = dataset[\"X\"], dataset[\"y\"]\n",
    "            y_logits = model.forward(X)\n",
    "            loss = loss_fn(y_logits, y)\n",
    "            validation_running_loss += loss.item()\n",
    "            \n",
    "        training_running_loss /= len(train_dataloader)\n",
    "        validation_running_loss /= len(test_dataloader)\n",
    "        \n",
    "        ## New tqdm\n",
    "        loss_dict = {\"Train Loss\": training_running_loss, \"Val loss\": validation_running_loss}\n",
    "        loss_progress_bar.set_postfix(loss_dict)\n",
    "        loss_progress_bar.set_description(\"Loss after Epoch : {}\".format(epoch))\n",
    "        \n",
    "\n",
    "        training_loss_list.append(training_running_loss)\n",
    "        validation_loss_list.append(validation_running_loss)\n",
    "    \n",
    "    return (training_loss_list, validation_loss_list)"
   ]
  },
  {
   "cell_type": "code",
   "execution_count": 29,
   "metadata": {},
   "outputs": [],
   "source": [
    "input_features = X_train.shape[1]\n",
    "epochs = 20\n",
    "learning_rate = 1e-4\n",
    "batch_size = 16"
   ]
  },
  {
   "cell_type": "code",
   "execution_count": 30,
   "metadata": {},
   "outputs": [],
   "source": [
    "train_dataset = CustomDataset(X_train_tensor,y_train_tensor)\n",
    "test_dataset = CustomDataset(X_test_tensor,y_train_tensor)\n",
    "\n",
    "train_dataloader = DataLoader(train_dataset,batch_size=batch_size, sampler= RandomSampler(train_dataset))\n",
    "test_dataloader = DataLoader(test_dataset,batch_size=batch_size, sampler= SequentialSampler(test_dataset))"
   ]
  },
  {
   "cell_type": "code",
   "execution_count": 31,
   "metadata": {},
   "outputs": [],
   "source": [
    "model = LinearModel(input_features)\n",
    "optimizer = optim.Adam(model.parameters(), lr = learning_rate)\n",
    "loss_fn  = nn.BCEWithLogitsLoss(reduction='mean')"
   ]
  },
  {
   "cell_type": "code",
   "execution_count": 32,
   "metadata": {},
   "outputs": [
    {
     "data": {
      "application/vnd.jupyter.widget-view+json": {
       "model_id": "7b1da38e300c476cae87a2c0a088215f",
       "version_major": 2,
       "version_minor": 0
      },
      "text/plain": [
       "HBox(children=(FloatProgress(value=0.0, max=20.0), HTML(value='')))"
      ]
     },
     "metadata": {},
     "output_type": "display_data"
    },
    {
     "data": {
      "application/vnd.jupyter.widget-view+json": {
       "model_id": "",
       "version_major": 2,
       "version_minor": 0
      },
      "text/plain": [
       "HBox(children=(FloatProgress(value=0.0, description='Epoch :0', max=14.0, style=ProgressStyle(description_widt…"
      ]
     },
     "metadata": {},
     "output_type": "display_data"
    },
    {
     "data": {
      "application/vnd.jupyter.widget-view+json": {
       "model_id": "",
       "version_major": 2,
       "version_minor": 0
      },
      "text/plain": [
       "HBox(children=(FloatProgress(value=0.0, description='Epoch :1', max=14.0, style=ProgressStyle(description_widt…"
      ]
     },
     "metadata": {},
     "output_type": "display_data"
    },
    {
     "data": {
      "application/vnd.jupyter.widget-view+json": {
       "model_id": "",
       "version_major": 2,
       "version_minor": 0
      },
      "text/plain": [
       "HBox(children=(FloatProgress(value=0.0, description='Epoch :2', max=14.0, style=ProgressStyle(description_widt…"
      ]
     },
     "metadata": {},
     "output_type": "display_data"
    },
    {
     "data": {
      "application/vnd.jupyter.widget-view+json": {
       "model_id": "",
       "version_major": 2,
       "version_minor": 0
      },
      "text/plain": [
       "HBox(children=(FloatProgress(value=0.0, description='Epoch :3', max=14.0, style=ProgressStyle(description_widt…"
      ]
     },
     "metadata": {},
     "output_type": "display_data"
    },
    {
     "data": {
      "application/vnd.jupyter.widget-view+json": {
       "model_id": "",
       "version_major": 2,
       "version_minor": 0
      },
      "text/plain": [
       "HBox(children=(FloatProgress(value=0.0, description='Epoch :4', max=14.0, style=ProgressStyle(description_widt…"
      ]
     },
     "metadata": {},
     "output_type": "display_data"
    },
    {
     "data": {
      "application/vnd.jupyter.widget-view+json": {
       "model_id": "",
       "version_major": 2,
       "version_minor": 0
      },
      "text/plain": [
       "HBox(children=(FloatProgress(value=0.0, description='Epoch :5', max=14.0, style=ProgressStyle(description_widt…"
      ]
     },
     "metadata": {},
     "output_type": "display_data"
    },
    {
     "data": {
      "application/vnd.jupyter.widget-view+json": {
       "model_id": "",
       "version_major": 2,
       "version_minor": 0
      },
      "text/plain": [
       "HBox(children=(FloatProgress(value=0.0, description='Epoch :6', max=14.0, style=ProgressStyle(description_widt…"
      ]
     },
     "metadata": {},
     "output_type": "display_data"
    },
    {
     "data": {
      "application/vnd.jupyter.widget-view+json": {
       "model_id": "",
       "version_major": 2,
       "version_minor": 0
      },
      "text/plain": [
       "HBox(children=(FloatProgress(value=0.0, description='Epoch :7', max=14.0, style=ProgressStyle(description_widt…"
      ]
     },
     "metadata": {},
     "output_type": "display_data"
    },
    {
     "data": {
      "application/vnd.jupyter.widget-view+json": {
       "model_id": "",
       "version_major": 2,
       "version_minor": 0
      },
      "text/plain": [
       "HBox(children=(FloatProgress(value=0.0, description='Epoch :8', max=14.0, style=ProgressStyle(description_widt…"
      ]
     },
     "metadata": {},
     "output_type": "display_data"
    },
    {
     "data": {
      "application/vnd.jupyter.widget-view+json": {
       "model_id": "",
       "version_major": 2,
       "version_minor": 0
      },
      "text/plain": [
       "HBox(children=(FloatProgress(value=0.0, description='Epoch :9', max=14.0, style=ProgressStyle(description_widt…"
      ]
     },
     "metadata": {},
     "output_type": "display_data"
    },
    {
     "data": {
      "application/vnd.jupyter.widget-view+json": {
       "model_id": "",
       "version_major": 2,
       "version_minor": 0
      },
      "text/plain": [
       "HBox(children=(FloatProgress(value=0.0, description='Epoch :10', max=14.0, style=ProgressStyle(description_wid…"
      ]
     },
     "metadata": {},
     "output_type": "display_data"
    },
    {
     "data": {
      "application/vnd.jupyter.widget-view+json": {
       "model_id": "",
       "version_major": 2,
       "version_minor": 0
      },
      "text/plain": [
       "HBox(children=(FloatProgress(value=0.0, description='Epoch :11', max=14.0, style=ProgressStyle(description_wid…"
      ]
     },
     "metadata": {},
     "output_type": "display_data"
    },
    {
     "data": {
      "application/vnd.jupyter.widget-view+json": {
       "model_id": "",
       "version_major": 2,
       "version_minor": 0
      },
      "text/plain": [
       "HBox(children=(FloatProgress(value=0.0, description='Epoch :12', max=14.0, style=ProgressStyle(description_wid…"
      ]
     },
     "metadata": {},
     "output_type": "display_data"
    },
    {
     "data": {
      "application/vnd.jupyter.widget-view+json": {
       "model_id": "",
       "version_major": 2,
       "version_minor": 0
      },
      "text/plain": [
       "HBox(children=(FloatProgress(value=0.0, description='Epoch :13', max=14.0, style=ProgressStyle(description_wid…"
      ]
     },
     "metadata": {},
     "output_type": "display_data"
    },
    {
     "data": {
      "application/vnd.jupyter.widget-view+json": {
       "model_id": "",
       "version_major": 2,
       "version_minor": 0
      },
      "text/plain": [
       "HBox(children=(FloatProgress(value=0.0, description='Epoch :14', max=14.0, style=ProgressStyle(description_wid…"
      ]
     },
     "metadata": {},
     "output_type": "display_data"
    },
    {
     "data": {
      "application/vnd.jupyter.widget-view+json": {
       "model_id": "",
       "version_major": 2,
       "version_minor": 0
      },
      "text/plain": [
       "HBox(children=(FloatProgress(value=0.0, description='Epoch :15', max=14.0, style=ProgressStyle(description_wid…"
      ]
     },
     "metadata": {},
     "output_type": "display_data"
    },
    {
     "data": {
      "application/vnd.jupyter.widget-view+json": {
       "model_id": "",
       "version_major": 2,
       "version_minor": 0
      },
      "text/plain": [
       "HBox(children=(FloatProgress(value=0.0, description='Epoch :16', max=14.0, style=ProgressStyle(description_wid…"
      ]
     },
     "metadata": {},
     "output_type": "display_data"
    },
    {
     "data": {
      "application/vnd.jupyter.widget-view+json": {
       "model_id": "",
       "version_major": 2,
       "version_minor": 0
      },
      "text/plain": [
       "HBox(children=(FloatProgress(value=0.0, description='Epoch :17', max=14.0, style=ProgressStyle(description_wid…"
      ]
     },
     "metadata": {},
     "output_type": "display_data"
    },
    {
     "data": {
      "application/vnd.jupyter.widget-view+json": {
       "model_id": "",
       "version_major": 2,
       "version_minor": 0
      },
      "text/plain": [
       "HBox(children=(FloatProgress(value=0.0, description='Epoch :18', max=14.0, style=ProgressStyle(description_wid…"
      ]
     },
     "metadata": {},
     "output_type": "display_data"
    },
    {
     "data": {
      "application/vnd.jupyter.widget-view+json": {
       "model_id": "",
       "version_major": 2,
       "version_minor": 0
      },
      "text/plain": [
       "HBox(children=(FloatProgress(value=0.0, description='Epoch :19', max=14.0, style=ProgressStyle(description_wid…"
      ]
     },
     "metadata": {},
     "output_type": "display_data"
    }
   ],
   "source": [
    "train_losses,test_losses  = train(train_dataloader, test_dataloader, epochs)"
   ]
  },
  {
   "cell_type": "code",
   "execution_count": 33,
   "metadata": {},
   "outputs": [
    {
     "data": {
      "image/png": "[encoded data removed]",
      "text/plain": [
       "<Figure size 576x432 with 1 Axes>"
      ]
     },
     "metadata": {
      "needs_background": "light"
     },
     "output_type": "display_data"
    }
   ],
   "source": [
    "## Plot Training and Validation Loss\n",
    "plt.plot(train_losses, label='Training loss')\n",
    "plt.plot(test_losses, label='Validation loss')\n",
    "plt.legend(frameon=False)\n",
    "plt.show()"
   ]
  },
  {
   "cell_type": "code",
   "execution_count": 34,
   "metadata": {},
   "outputs": [],
   "source": [
    "y_train_pred, y_train_true = evaluate(train_dataloader)\n",
    "y_test_pred, y_test_true = evaluate(test_dataloader)"
   ]
  },
  {
   "cell_type": "code",
   "execution_count": 35,
   "metadata": {},
   "outputs": [
    {
     "name": "stdout",
     "output_type": "stream",
     "text": [
      "Train accuracy :  66.03\n",
      "Test accuracy :  72.0\n"
     ]
    }
   ],
   "source": [
    "print(\"Train accuracy : \",accuracy(y_train_pred,y_train_true))\n",
    "print(\"Test accuracy : \",accuracy(y_test_pred,y_test_true))"
   ]
  },
  {
   "cell_type": "code",
   "execution_count": null,
   "metadata": {},
   "outputs": [],
   "source": []
  }
 ],
 "metadata": {
  "kernelspec": {
   "display_name": "Python 3",
   "language": "python",
   "name": "python3"
  },
  "language_info": {
   "codemirror_mode": {
    "name": "ipython",
    "version": 3
   },
   "file_extension": ".py",
   "mimetype": "text/x-python",
   "name": "python",
   "nbconvert_exporter": "python",
   "pygments_lexer": "ipython3",
   "version": "3.7.3"
  }
 },
 "nbformat": 4,
 "nbformat_minor": 2
}

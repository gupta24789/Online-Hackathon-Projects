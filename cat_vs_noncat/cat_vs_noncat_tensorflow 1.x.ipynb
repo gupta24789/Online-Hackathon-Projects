{
 "cells": [
  {
   "cell_type": "code",
   "execution_count": 1,
   "metadata": {},
   "outputs": [],
   "source": [
    "import tensorflow as tf\n",
    "import numpy as np\n",
    "import h5py\n",
    "import os\n",
    "from sklearn.metrics import roc_auc_score \n",
    "import matplotlib.pyplot as plt\n",
    "import pandas as pd\n",
    "\n",
    "%matplotlib inline"
   ]
  },
  {
   "cell_type": "code",
   "execution_count": 2,
   "metadata": {},
   "outputs": [],
   "source": [
    "train_file_path = './datasets/train_catvnoncat.h5'\n",
    "test_file_path = './datasets/test_catvnoncat.h5'"
   ]
  },
  {
   "cell_type": "code",
   "execution_count": 3,
   "metadata": {},
   "outputs": [],
   "source": [
    "def load_data(train_file_path, test_file_path):\n",
    "    \n",
    "    train = h5py.File(train_file_path)\n",
    "    test = h5py.File(test_file_path)\n",
    "    \n",
    "    train_x_orig = train['train_set_x'].value\n",
    "    train_y_orig = train['train_set_y'].value\n",
    "    \n",
    "    class_list = train['list_classes']\n",
    "    \n",
    "    test_x_orig = test['test_set_x'].value\n",
    "    test_y_orig = test['test_set_y'].value\n",
    "    \n",
    "    return train_x_orig, train_y_orig, test_x_orig, test_y_orig, class_list"
   ]
  },
  {
   "cell_type": "markdown",
   "metadata": {},
   "source": [
    "### Using CNN"
   ]
  },
  {
   "cell_type": "markdown",
   "metadata": {},
   "source": [
    "    w_1:       [11,11,3,96] \n",
    "            \n",
    "                kernel_size = (11,11)\n",
    "                channel = 3\n",
    "                number of filetrs = 96"
   ]
  },
  {
   "cell_type": "code",
   "execution_count": 4,
   "metadata": {},
   "outputs": [],
   "source": [
    "## Load data\n",
    "train_x_orig, train_y_orig, test_x_orig, test_y_orig, class_list = load_data(train_file_path,test_file_path)"
   ]
  },
  {
   "cell_type": "code",
   "execution_count": 5,
   "metadata": {},
   "outputs": [
    {
     "name": "stdout",
     "output_type": "stream",
     "text": [
      "Train : (209, 64, 64, 3) (209,)\n",
      "Test : (50, 64, 64, 3) (50,)\n"
     ]
    }
   ],
   "source": [
    "### Shape of train and test \n",
    "print(\"Train :\", train_x_orig.shape, train_y_orig.shape)\n",
    "print(\"Test :\", test_x_orig.shape, test_y_orig.shape)"
   ]
  },
  {
   "cell_type": "code",
   "execution_count": 6,
   "metadata": {},
   "outputs": [],
   "source": [
    "train_x = train_x_orig.copy()\n",
    "train_y = tf.keras.utils.to_categorical(train_y_orig)\n",
    "\n",
    "test_x = test_x_orig.copy()\n",
    "test_y = tf.keras.utils.to_categorical(test_y_orig)"
   ]
  },
  {
   "cell_type": "code",
   "execution_count": 7,
   "metadata": {},
   "outputs": [
    {
     "name": "stdout",
     "output_type": "stream",
     "text": [
      "Train : (209, 64, 64, 3) (209, 2)\n",
      "Test : (50, 64, 64, 3) (50, 2)\n"
     ]
    }
   ],
   "source": [
    "### Shape of train and test \n",
    "print(\"Train :\", train_x.shape, train_y.shape)\n",
    "print(\"Test :\", test_x.shape, test_y.shape)"
   ]
  },
  {
   "cell_type": "code",
   "execution_count": 8,
   "metadata": {},
   "outputs": [],
   "source": [
    "### Normalizing the inputs\n",
    "train_x = train_x/255.0\n",
    "test_x = test_x/255.0"
   ]
  },
  {
   "cell_type": "code",
   "execution_count": 9,
   "metadata": {},
   "outputs": [
    {
     "name": "stdout",
     "output_type": "stream",
     "text": [
      "D:\\MyData\\Rough\n"
     ]
    }
   ],
   "source": [
    "TRAIN_DIR = os.getcwd()\n",
    "print(TRAIN_DIR) "
   ]
  },
  {
   "cell_type": "code",
   "execution_count": 10,
   "metadata": {},
   "outputs": [],
   "source": [
    "#HYPERPARAMETERS\n",
    "# our photos are in the size of (64,64,3)\n",
    "IMG_SIZE = 64\n",
    "epochs = 35\n",
    "step_size = 8\n",
    "output_classes = 2\n",
    "validating_size = 40\n",
    "steps = len(train_x)\n",
    "remaining = steps % step_size\n",
    "\n",
    "### First CNN config\n",
    "cnn_params = {\n",
    "    \"1\":{\n",
    "        \n",
    "        ## weight params\n",
    "        \"kernel_size\":(11,11),\n",
    "        \"channel\": 3,\n",
    "        \"num_of_filters\": 96,\n",
    "        \n",
    "        ## cnn param\n",
    "        \"conv_strides\":(4,4),\n",
    "        \"conv_padding\":\"VALID\",\n",
    "        \n",
    "        ## max pool param\n",
    "        \"max_pool_ksize\": (3,3),\n",
    "        \"max_pool_stride\":(2,2),\n",
    "        \"max_pool_padding\":\"VALID\",\n",
    "        \n",
    "    },\n",
    "    \n",
    "    \"2\":{\n",
    "        \n",
    "        ## weight params\n",
    "        \"kernel_size\":(5,5),\n",
    "        \"channel\": 96,\n",
    "        \"num_of_filters\": 256,\n",
    "        \n",
    "        ## cnn param\n",
    "        \"conv_strides\":(1,1),\n",
    "        \"conv_padding\":\"SAME\",\n",
    "        \n",
    "        ## max pool param\n",
    "        \"max_pool_ksize\": (3,3),\n",
    "        \"max_pool_stride\":(2,2),\n",
    "        \"max_pool_padding\":\"VALID\",\n",
    "        \n",
    "    },\n",
    "    \n",
    "    \"flat_layer_1\": {\n",
    "        \"number_of_units\": 256,\n",
    "        \"dropout\": 0.5 \n",
    "    },\n",
    "    \n",
    "    \"flat_layer_2\": {\n",
    "        \"number_of_units\": 512,\n",
    "        \"dropout\": 0.5 \n",
    "    }\n",
    "}"
   ]
  },
  {
   "cell_type": "code",
   "execution_count": 11,
   "metadata": {},
   "outputs": [],
   "source": [
    "def get_weight_params(cnn_params, level = None):\n",
    "    w_config = list(cnn_params[level][\"kernel_size\"])+ [cnn_params[level][\"channel\"]] + [cnn_params[level][\"num_of_filters\"]]\n",
    "    b_config = [cnn_params[level][\"num_of_filters\"]]\n",
    "    return  w_config, b_config"
   ]
  },
  {
   "cell_type": "code",
   "execution_count": 12,
   "metadata": {},
   "outputs": [],
   "source": [
    "def get_cnn_param(cnn_params, level = None):\n",
    "    \n",
    "    strides = [1] + list(cnn_params[level][\"conv_strides\"]) + [1]\n",
    "    padding = cnn_params[level][\"conv_padding\"]\n",
    "    \n",
    "    return strides, padding"
   ]
  },
  {
   "cell_type": "code",
   "execution_count": 13,
   "metadata": {},
   "outputs": [],
   "source": [
    "def get_max_pool_param(cnn_params, level = None):\n",
    "    ksize = [1] + list(cnn_params[level][\"max_pool_ksize\"]) + [1]\n",
    "    strides = [1] + list(cnn_params[level][\"max_pool_stride\"]) + [1]\n",
    "    padding = cnn_params[level][\"max_pool_padding\"]\n",
    "    \n",
    "    return ksize, strides, padding"
   ]
  },
  {
   "cell_type": "code",
   "execution_count": 14,
   "metadata": {},
   "outputs": [],
   "source": [
    "#Resetting graph\n",
    "tf.reset_default_graph()\n",
    "\n",
    "#Defining Placeholders\n",
    "x = tf.placeholder(tf.float32,shape=[None,IMG_SIZE,IMG_SIZE,3],name = 'x')\n",
    "y_true = tf.placeholder(tf.float32,shape=[None,output_classes],name = 'y_true')"
   ]
  },
  {
   "cell_type": "code",
   "execution_count": 15,
   "metadata": {},
   "outputs": [
    {
     "name": "stdout",
     "output_type": "stream",
     "text": [
      "WARNING:tensorflow:From C:\\saurabh\\lib\\site-packages\\tensorflow\\python\\framework\\op_def_library.py:263: colocate_with (from tensorflow.python.framework.ops) is deprecated and will be removed in a future version.\n",
      "Instructions for updating:\n",
      "Colocations handled automatically by placer.\n",
      "Tensor(\"MaxPool:0\", shape=(?, 6, 6, 96), dtype=float32)\n"
     ]
    }
   ],
   "source": [
    "##CONVOLUTION LAYER 1\n",
    "w_1_param,b_1_param = get_weight_params(cnn_params, \"1\")\n",
    "cnn_strides, cnn_padding = get_cnn_param(cnn_params,\"1\")\n",
    "ksize, strides, padding = get_max_pool_param(cnn_params,\"1\")\n",
    "\n",
    "#Weights for layer 1\n",
    "w_1 = tf.Variable(tf.truncated_normal(w_1_param, stddev=0.01))\n",
    "b_1 = tf.Variable(tf.constant(0.0, shape=b_1_param))\n",
    "c_1 = tf.nn.conv2d(x, w_1,strides= cnn_strides, padding=cnn_padding)\n",
    "c_1 = c_1 + b_1\n",
    "c_1 = tf.nn.relu(c_1)\n",
    "p_1 = tf.nn.max_pool(c_1, ksize=ksize,strides=strides, padding=padding)\n",
    "print(p_1)"
   ]
  },
  {
   "cell_type": "code",
   "execution_count": 16,
   "metadata": {},
   "outputs": [
    {
     "name": "stdout",
     "output_type": "stream",
     "text": [
      "Tensor(\"MaxPool_1:0\", shape=(?, 2, 2, 256), dtype=float32)\n"
     ]
    }
   ],
   "source": [
    "##CONVOLUTION LAYER 2\n",
    "w_2_param,b_2_param = get_weight_params(cnn_params, \"2\")\n",
    "cnn_strides, cnn_padding = get_cnn_param(cnn_params,\"2\")\n",
    "ksize, strides, padding = get_max_pool_param(cnn_params,\"2\")\n",
    "\n",
    "#Weights for layer 1\n",
    "w_2 = tf.Variable(tf.truncated_normal(w_2_param, stddev=0.01))\n",
    "b_2 = tf.Variable(tf.constant(0.0, shape=b_2_param))\n",
    "c_2 = tf.nn.conv2d(p_1, w_2,strides= cnn_strides, padding=cnn_padding)\n",
    "c_2 = c_2 + b_2\n",
    "c_2 = tf.nn.relu(c_2)\n",
    "p_2 = tf.nn.max_pool(c_2, ksize=ksize,strides=strides, padding=padding)\n",
    "print(p_2)"
   ]
  },
  {
   "cell_type": "code",
   "execution_count": 17,
   "metadata": {},
   "outputs": [
    {
     "name": "stdout",
     "output_type": "stream",
     "text": [
      "Tensor(\"Reshape:0\", shape=(?, 1024), dtype=float32)\n"
     ]
    }
   ],
   "source": [
    "#Flattening\n",
    "flattened = tf.reshape(p_2,[-1,p_2.shape[1] * p_2.shape[2] * p_2.shape[3]])\n",
    "print(flattened)"
   ]
  },
  {
   "cell_type": "code",
   "execution_count": 18,
   "metadata": {},
   "outputs": [
    {
     "name": "stdout",
     "output_type": "stream",
     "text": [
      "WARNING:tensorflow:From <ipython-input-18-e1629e4d6991>:12: calling dropout (from tensorflow.python.ops.nn_ops) with keep_prob is deprecated and will be removed in a future version.\n",
      "Instructions for updating:\n",
      "Please use `rate` instead of `keep_prob`. Rate should be set to `rate = 1 - keep_prob`.\n",
      "Tensor(\"dropout/mul:0\", shape=(?, 256), dtype=float32)\n"
     ]
    }
   ],
   "source": [
    "##Fully Connected Layer 1\n",
    "units_1 = cnn_params[\"flat_layer_1\"][\"number_of_units\"]\n",
    "dropout_1 = cnn_params[\"flat_layer_1\"][\"dropout\"]\n",
    "\n",
    "input_size = int( flattened.get_shape()[1] )\n",
    "w1_fc = tf.Variable(tf.truncated_normal([input_size, units_1], stddev=0.01))\n",
    "b1_fc = tf.Variable( tf.constant(1.0, shape=[units_1] ) )\n",
    "s_fc1 = tf.matmul(flattened, w1_fc) + b1_fc\n",
    "s_fc1 = tf.nn.relu(s_fc1)\n",
    "#Dropout Layer 1\n",
    "hold_prob1 = tf.placeholder(tf.float32, name = 'hold_prob1')\n",
    "s_fc1 = tf.nn.dropout(s_fc1,keep_prob=dropout_1)\n",
    "\n",
    "print(s_fc1)"
   ]
  },
  {
   "cell_type": "code",
   "execution_count": 19,
   "metadata": {},
   "outputs": [
    {
     "name": "stdout",
     "output_type": "stream",
     "text": [
      "Tensor(\"dropout_1/mul:0\", shape=(?, 512), dtype=float32)\n"
     ]
    }
   ],
   "source": [
    "##Fully Connected Layer 2\n",
    "units_2 = cnn_params[\"flat_layer_2\"][\"number_of_units\"]\n",
    "dropout_2 = cnn_params[\"flat_layer_2\"][\"dropout\"]\n",
    "\n",
    "w2_fc = tf.Variable(tf.truncated_normal([units_1, units_2], stddev=0.01))\n",
    "b2_fc = tf.Variable( tf.constant(1.0, shape=[units_2] ) )\n",
    "s_fc2 = tf.matmul(s_fc1, w2_fc) + b2_fc\n",
    "s_fc2 = tf.nn.relu(s_fc2)\n",
    "#Dropout Layer 2\n",
    "hold_prob2 = tf.placeholder(tf.float32,name = 'hold_prob2')\n",
    "s_fc2 = tf.nn.dropout(s_fc2,keep_prob=dropout_2)\n",
    "print(s_fc2)"
   ]
  },
  {
   "cell_type": "code",
   "execution_count": 20,
   "metadata": {},
   "outputs": [
    {
     "name": "stdout",
     "output_type": "stream",
     "text": [
      "Tensor(\"add_4:0\", shape=(?, 2), dtype=float32)\n"
     ]
    }
   ],
   "source": [
    "##Fully Connected Layer 3\n",
    "#Weights for FC Layer 3\n",
    "w3_fc = tf.Variable(tf.truncated_normal([units_2,output_classes], stddev=0.01))\n",
    "b3_fc = tf.Variable( tf.constant(1.0, shape=[output_classes] ) )\n",
    "y_pred = tf.matmul(s_fc2, w3_fc) + b3_fc\n",
    "#Applying RELU\n",
    "print(y_pred)"
   ]
  },
  {
   "cell_type": "code",
   "execution_count": 21,
   "metadata": {},
   "outputs": [],
   "source": [
    "#Defining loss function\n",
    "cross_entropy = tf.reduce_mean(tf.nn.softmax_cross_entropy_with_logits_v2(labels=y_true,logits=y_pred))\n",
    "\n",
    "#Defining objective\n",
    "train = tf.train.AdamOptimizer(learning_rate=0.00001).minimize(cross_entropy)"
   ]
  },
  {
   "cell_type": "code",
   "execution_count": 22,
   "metadata": {},
   "outputs": [],
   "source": [
    "#Defining Accuracy\n",
    "matches = tf.equal(tf.argmax(y_pred,1),tf.argmax(y_true,1))\n",
    "acc = tf.reduce_mean(tf.cast(matches,tf.float32))"
   ]
  },
  {
   "cell_type": "code",
   "execution_count": 23,
   "metadata": {},
   "outputs": [],
   "source": [
    "#Initializing weights\n",
    "init = tf.global_variables_initializer()\n",
    "\n",
    "#Starting Empty lists to keep results\n",
    "acc_list = []\n",
    "auc_list = []\n",
    "loss_list = []\n",
    "saver = tf.train.Saver()\n",
    "\n",
    "config = tf.ConfigProto(device_count = {'GPU': 0})"
   ]
  },
  {
   "cell_type": "code",
   "execution_count": 24,
   "metadata": {},
   "outputs": [
    {
     "name": "stdout",
     "output_type": "stream",
     "text": [
      "Epoch: 0 Accuracy: 0.375 Loss: 0.75279 AUC: 0.52137\n",
      "Epoch: 1 Accuracy: 0.35 Loss: 0.81471 AUC: 0.40171\n",
      "Epoch: 2 Accuracy: 0.375 Loss: 0.85446 AUC: 0.46724\n",
      "Epoch: 3 Accuracy: 0.35 Loss: 0.87887 AUC: 0.39031\n",
      "Epoch: 4 Accuracy: 0.275 Loss: 0.883 AUC: 0.34473\n",
      "Epoch: 5 Accuracy: 0.325 Loss: 0.8626 AUC: 0.46724\n",
      "Epoch: 6 Accuracy: 0.3 Loss: 0.87422 AUC: 0.40171\n",
      "Epoch: 7 Accuracy: 0.3 Loss: 0.86768 AUC: 0.4416\n",
      "Epoch: 8 Accuracy: 0.325 Loss: 0.87305 AUC: 0.47863\n",
      "Epoch: 9 Accuracy: 0.325 Loss: 0.87049 AUC: 0.4359\n",
      "Epoch: 10 Accuracy: 0.325 Loss: 0.86994 AUC: 0.49288\n",
      "Epoch: 11 Accuracy: 0.325 Loss: 0.88153 AUC: 0.49003\n",
      "Epoch: 12 Accuracy: 0.325 Loss: 0.86279 AUC: 0.52137\n",
      "Epoch: 13 Accuracy: 0.325 Loss: 0.90433 AUC: 0.36182\n",
      "Epoch: 14 Accuracy: 0.325 Loss: 0.87334 AUC: 0.52707\n",
      "Epoch: 15 Accuracy: 0.35 Loss: 0.82542 AUC: 0.49288\n",
      "Epoch: 16 Accuracy: 0.325 Loss: 0.88742 AUC: 0.37322\n",
      "Epoch: 17 Accuracy: 0.375 Loss: 0.86797 AUC: 0.48148\n",
      "Epoch: 18 Accuracy: 0.325 Loss: 0.87967 AUC: 0.42735\n",
      "Epoch: 19 Accuracy: 0.325 Loss: 0.84862 AUC: 0.53846\n",
      "Epoch: 20 Accuracy: 0.3 Loss: 0.86666 AUC: 0.45299\n",
      "Epoch: 21 Accuracy: 0.35 Loss: 0.83421 AUC: 0.50712\n",
      "Epoch: 22 Accuracy: 0.325 Loss: 0.89342 AUC: 0.43875\n",
      "Epoch: 23 Accuracy: 0.325 Loss: 0.88914 AUC: 0.4359\n",
      "Epoch: 24 Accuracy: 0.325 Loss: 0.84089 AUC: 0.57265\n",
      "Epoch: 25 Accuracy: 0.375 Loss: 0.8493 AUC: 0.52991\n",
      "Epoch: 26 Accuracy: 0.4 Loss: 0.79731 AUC: 0.67521\n",
      "Epoch: 27 Accuracy: 0.325 Loss: 0.83891 AUC: 0.61254\n",
      "Epoch: 28 Accuracy: 0.325 Loss: 0.8609 AUC: 0.49573\n",
      "Epoch: 29 Accuracy: 0.35 Loss: 0.82119 AUC: 0.76638\n",
      "Epoch: 30 Accuracy: 0.35 Loss: 0.87484 AUC: 0.56695\n",
      "Epoch: 31 Accuracy: 0.325 Loss: 0.87541 AUC: 0.45299\n",
      "Epoch: 32 Accuracy: 0.375 Loss: 0.83593 AUC: 0.55556\n",
      "Epoch: 33 Accuracy: 0.35 Loss: 0.80881 AUC: 0.65527\n",
      "Epoch: 34 Accuracy: 0.325 Loss: 0.84924 AUC: 0.52422\n",
      "Test Results are below:\n",
      "Accuracy: 0.325 Loss: 0.83044 AUC: 0.5641\n"
     ]
    }
   ],
   "source": [
    "with tf.Session(config=config) as sess:\n",
    "    sess.run(init)\n",
    "    for i in range(epochs):\n",
    "        for j in range(0,steps-remaining,step_size):\n",
    "            #Feeding step_size-amount data with 0.5 keeping probabilities on DROPOUT LAYERS\n",
    "            _,c = sess.run([train,cross_entropy],feed_dict={x:train_x[j:j+step_size] , y_true:train_y[j:j+step_size],hold_prob1:0.5,hold_prob2:0.5})\n",
    "        \n",
    "        #Writing for loop to calculate test statistics. GTX 1050 isn't able to calculate all test data.\n",
    "        cv_auc_list = []\n",
    "        cv_acc_list = []\n",
    "        cv_loss_list = []\n",
    "        for v in range(0,len(test_x)-int(len(test_x) % validating_size),validating_size):\n",
    "            acc_on_cv,loss_on_cv,preds = sess.run([acc,cross_entropy,tf.nn.softmax(y_pred)],feed_dict={x:test_x[v:v+validating_size] ,y_true:test_y[v:v+validating_size] ,hold_prob1:1.0,hold_prob2:1.0})\n",
    "            auc_on_cv = roc_auc_score(test_y[v:v+validating_size],preds)\n",
    "            cv_acc_list.append(acc_on_cv)\n",
    "            cv_auc_list.append(auc_on_cv)\n",
    "            cv_loss_list.append(loss_on_cv)\n",
    "        acc_cv_ = round(np.mean(cv_acc_list),5)\n",
    "        auc_cv_ = round(np.mean(cv_auc_list),5)\n",
    "        loss_cv_ = round(np.mean(cv_loss_list),5)\n",
    "        acc_list.append(acc_cv_)\n",
    "        auc_list.append(auc_cv_)\n",
    "        loss_list.append(loss_cv_)\n",
    "        print(\"Epoch:\",i,\"Accuracy:\",acc_cv_,\"Loss:\",loss_cv_ ,\"AUC:\",auc_cv_)\n",
    "    \n",
    "    test_auc_list = []\n",
    "    test_acc_list = []\n",
    "    test_loss_list = []\n",
    "    \n",
    "    for v in range(0,len(test_x)-int(len(test_x) % validating_size),validating_size):\n",
    "        acc_on_test,loss_on_test,preds = sess.run([acc,cross_entropy,tf.nn.softmax(y_pred)],feed_dict={x:test_x[v:v+validating_size] ,\n",
    "        y_true:test_y[v:v+validating_size] ,hold_prob1:1.0,hold_prob2:1.0})\n",
    "        auc_on_test = roc_auc_score(test_y[v:v+validating_size],preds)\n",
    "        test_acc_list.append(acc_on_test)\n",
    "        test_auc_list.append(auc_on_test)\n",
    "        test_loss_list.append(loss_on_test)\n",
    "    saver.save(sess, os.path.join(os.getcwd(),\"CNN_MC.ckpt\"))\n",
    "    \n",
    "    test_acc_ = round(np.mean(test_acc_list),5)\n",
    "    test_auc_ = round(np.mean(test_auc_list),5)\n",
    "    test_loss_ = round(np.mean(test_loss_list),5)\n",
    "    print(\"Test Results are below:\")\n",
    "    print(\"Accuracy:\",test_acc_,\"Loss:\",test_loss_,\"AUC:\",test_auc_)"
   ]
  },
  {
   "cell_type": "code",
   "execution_count": 25,
   "metadata": {},
   "outputs": [
    {
     "data": {
      "image/png": "[encoded data removed]",
      "text/plain": [
       "<Figure size 864x504 with 3 Axes>"
      ]
     },
     "metadata": {
      "needs_background": "light"
     },
     "output_type": "display_data"
    }
   ],
   "source": [
    "f,ax=plt.subplots(1,3,figsize=(12,3))\n",
    "pd.Series(acc_list).plot(kind='line',title='Accuracy on CV data',ax=ax[0])\n",
    "pd.Series(loss_list).plot(kind='line',figsize=(12,7),title='Loss on CV data',ax=ax[1])\n",
    "pd.Series(auc_list).plot(kind='line',figsize=(12,7),title='AUC on CV data',ax=ax[2])\n",
    "plt.subplots_adjust(wspace=0.8)\n",
    "ax[0].set_title('Accuracy on CV data')\n",
    "ax[1].set_title('Loss on CV data')\n",
    "ax[2].set_title('AUC on CV data')\n",
    "plt.show()"
   ]
  },
  {
   "cell_type": "markdown",
   "metadata": {},
   "source": [
    "### Using standard NN"
   ]
  },
  {
   "cell_type": "code",
   "execution_count": 26,
   "metadata": {},
   "outputs": [],
   "source": [
    "## Load data\n",
    "train_x_orig, train_y_orig, test_x_orig, test_y_orig, class_list = load_data(train_file_path,test_file_path)"
   ]
  },
  {
   "cell_type": "code",
   "execution_count": 27,
   "metadata": {},
   "outputs": [
    {
     "name": "stdout",
     "output_type": "stream",
     "text": [
      "Train : (209, 64, 64, 3) (209,)\n",
      "Test : (50, 64, 64, 3) (50,)\n"
     ]
    }
   ],
   "source": [
    "### Shape of train and test \n",
    "print(\"Train :\", train_x_orig.shape, train_y_orig.shape)\n",
    "print(\"Test :\", test_x_orig.shape, test_y_orig.shape)"
   ]
  },
  {
   "cell_type": "code",
   "execution_count": 28,
   "metadata": {},
   "outputs": [],
   "source": [
    "### Create feature vector\n",
    "train_x = train_x_orig.reshape([train_x_orig.shape[0],-1])\n",
    "train_y = tf.keras.utils.to_categorical(train_y_orig)\n",
    "\n",
    "test_x = test_x_orig.reshape([test_x_orig.shape[0],-1])\n",
    "test_y = tf.keras.utils.to_categorical(test_y_orig)"
   ]
  },
  {
   "cell_type": "code",
   "execution_count": 29,
   "metadata": {},
   "outputs": [
    {
     "name": "stdout",
     "output_type": "stream",
     "text": [
      "Train : (209, 12288) (209, 2)\n",
      "Test : (50, 12288) (50, 2)\n"
     ]
    }
   ],
   "source": [
    "### Shape of train and test \n",
    "print(\"Train :\", train_x.shape, train_y.shape)\n",
    "print(\"Test :\", test_x.shape, test_y.shape)"
   ]
  },
  {
   "cell_type": "code",
   "execution_count": 30,
   "metadata": {},
   "outputs": [],
   "source": [
    "### Normalizing the inputs\n",
    "train_x = train_x/255.0\n",
    "test_x = test_x/255.0"
   ]
  },
  {
   "cell_type": "code",
   "execution_count": 31,
   "metadata": {},
   "outputs": [],
   "source": [
    "### HYPERPARAMETER\n",
    "IMG_SIZE = 64\n",
    "EPOCHS = 30\n",
    "\n",
    "NUM_UNITS_1 = 1024\n",
    "NUM_UNITS_2 = 512\n",
    "NUM_UNITS_3 = 256\n",
    "OUTPUT_CLASSES = 2"
   ]
  },
  {
   "cell_type": "code",
   "execution_count": 32,
   "metadata": {},
   "outputs": [],
   "source": [
    "tf.reset_default_graph()\n",
    "\n",
    "x = tf.placeholder(tf.float32, shape = [None,IMG_SIZE*IMG_SIZE*3],name = 'x')\n",
    "y_true = tf.placeholder(tf.float32, shape = [None,OUTPUT_CLASSES],name = 'y_true')"
   ]
  },
  {
   "cell_type": "code",
   "execution_count": 33,
   "metadata": {},
   "outputs": [],
   "source": [
    "### First dense layer\n",
    "w_1 = tf.Variable(tf.truncated_normal(shape = (x.shape[1].value,NUM_UNITS_1), stddev = 0.001))\n",
    "b_1 = tf.Variable(tf.constant(0.0, shape = [1, NUM_UNITS_1]))\n",
    "z_1 = tf.matmul(x,w_1) + b_1\n",
    "a_1 = tf.nn.relu(z_1)"
   ]
  },
  {
   "cell_type": "code",
   "execution_count": 34,
   "metadata": {},
   "outputs": [],
   "source": [
    "### Second dense layer\n",
    "w_2 = tf.Variable(tf.truncated_normal(shape = (a_1.shape[1].value,NUM_UNITS_2), stddev = 0.001))\n",
    "b_2 = tf.Variable(tf.constant(0.0, shape = [1, NUM_UNITS_2]))\n",
    "z_2 = tf.matmul(a_1,w_2) + b_2\n",
    "a_2 = tf.nn.relu(z_2)"
   ]
  },
  {
   "cell_type": "code",
   "execution_count": 35,
   "metadata": {},
   "outputs": [],
   "source": [
    "### Third dense layer\n",
    "w_3 = tf.Variable(tf.truncated_normal(shape = (a_2.shape[1].value,NUM_UNITS_3), stddev = 0.001))\n",
    "b_3 = tf.Variable(tf.constant(0.0, shape = [1, NUM_UNITS_3]))\n",
    "z_3 = tf.matmul(a_2,w_3) + b_3\n",
    "a_3 = tf.nn.relu(z_3)"
   ]
  },
  {
   "cell_type": "code",
   "execution_count": 36,
   "metadata": {},
   "outputs": [],
   "source": [
    "### OUTPUT LAYER\n",
    "w_4 = tf.Variable(tf.truncated_normal(shape = (a_3.shape[1].value, OUTPUT_CLASSES), stddev = 0.001))\n",
    "b_4 = tf.Variable(tf.constant(0.0, shape = [1, OUTPUT_CLASSES]))\n",
    "\n",
    "y_pred = tf.matmul(a_3,w_4) + b_4"
   ]
  },
  {
   "cell_type": "code",
   "execution_count": 37,
   "metadata": {},
   "outputs": [],
   "source": [
    "#Defining loss function\n",
    "cross_entropy = tf.reduce_mean(tf.nn.softmax_cross_entropy_with_logits_v2(labels=y_true,logits=y_pred))\n",
    "#Defining objective\n",
    "train = tf.train.AdamOptimizer(learning_rate=0.00001).minimize(cross_entropy)"
   ]
  },
  {
   "cell_type": "code",
   "execution_count": 38,
   "metadata": {},
   "outputs": [],
   "source": [
    "#Defining Accuracy\n",
    "matches = tf.equal(tf.argmax(y_pred,1),tf.argmax(y_true,1))\n",
    "acc = tf.reduce_mean(tf.cast(matches,tf.float32))"
   ]
  },
  {
   "cell_type": "code",
   "execution_count": 39,
   "metadata": {},
   "outputs": [],
   "source": [
    "#Initializing weights\n",
    "init = tf.global_variables_initializer()"
   ]
  },
  {
   "cell_type": "code",
   "execution_count": 40,
   "metadata": {},
   "outputs": [
    {
     "name": "stdout",
     "output_type": "stream",
     "text": [
      "Epoch: 0 Accuracy: 0.325 Loss: 0.69322 AUC: 0.27635\n",
      "Epoch: 1 Accuracy: 0.325 Loss: 0.69362 AUC: 0.26781\n",
      "Epoch: 2 Accuracy: 0.325 Loss: 0.6974 AUC: 0.26211\n",
      "Epoch: 3 Accuracy: 0.325 Loss: 0.71564 AUC: 0.26211\n",
      "Epoch: 4 Accuracy: 0.325 Loss: 0.7632 AUC: 0.26211\n",
      "Epoch: 5 Accuracy: 0.325 Loss: 0.82061 AUC: 0.26781\n",
      "Epoch: 6 Accuracy: 0.325 Loss: 0.84849 AUC: 0.2735\n",
      "Epoch: 7 Accuracy: 0.325 Loss: 0.85546 AUC: 0.2792\n",
      "Epoch: 8 Accuracy: 0.325 Loss: 0.85725 AUC: 0.28205\n",
      "Epoch: 9 Accuracy: 0.325 Loss: 0.85812 AUC: 0.28775\n",
      "Epoch: 10 Accuracy: 0.325 Loss: 0.85875 AUC: 0.28775\n",
      "Epoch: 11 Accuracy: 0.325 Loss: 0.85926 AUC: 0.2906\n",
      "Epoch: 12 Accuracy: 0.325 Loss: 0.85961 AUC: 0.2906\n",
      "Epoch: 13 Accuracy: 0.325 Loss: 0.8599 AUC: 0.29345\n",
      "Epoch: 14 Accuracy: 0.325 Loss: 0.86003 AUC: 0.2963\n",
      "Epoch: 15 Accuracy: 0.325 Loss: 0.8601 AUC: 0.30199\n",
      "Epoch: 16 Accuracy: 0.325 Loss: 0.86016 AUC: 0.30484\n",
      "Epoch: 17 Accuracy: 0.325 Loss: 0.86013 AUC: 0.31054\n",
      "Epoch: 18 Accuracy: 0.325 Loss: 0.86003 AUC: 0.32479\n",
      "Epoch: 19 Accuracy: 0.325 Loss: 0.85982 AUC: 0.32764\n",
      "Epoch: 20 Accuracy: 0.325 Loss: 0.85964 AUC: 0.33048\n",
      "Epoch: 21 Accuracy: 0.325 Loss: 0.8594 AUC: 0.33618\n",
      "Epoch: 22 Accuracy: 0.325 Loss: 0.85906 AUC: 0.34758\n",
      "Epoch: 23 Accuracy: 0.325 Loss: 0.85841 AUC: 0.34758\n",
      "Epoch: 24 Accuracy: 0.325 Loss: 0.85777 AUC: 0.35613\n",
      "Epoch: 25 Accuracy: 0.325 Loss: 0.85702 AUC: 0.37037\n",
      "Epoch: 26 Accuracy: 0.325 Loss: 0.8562 AUC: 0.38177\n",
      "Epoch: 27 Accuracy: 0.325 Loss: 0.85521 AUC: 0.39601\n",
      "Epoch: 28 Accuracy: 0.325 Loss: 0.85402 AUC: 0.40741\n",
      "Epoch: 29 Accuracy: 0.325 Loss: 0.85265 AUC: 0.41595\n",
      "Epoch: 30 Accuracy: 0.325 Loss: 0.85105 AUC: 0.43875\n",
      "Epoch: 31 Accuracy: 0.325 Loss: 0.84905 AUC: 0.45014\n",
      "Epoch: 32 Accuracy: 0.325 Loss: 0.84674 AUC: 0.48433\n",
      "Epoch: 33 Accuracy: 0.325 Loss: 0.84401 AUC: 0.50427\n",
      "Epoch: 34 Accuracy: 0.325 Loss: 0.84088 AUC: 0.52991\n",
      "Test Results are below:\n",
      "Accuracy: 0.325 Loss: 0.84088 AUC: 0.52991\n"
     ]
    }
   ],
   "source": [
    "#Starting Empty lists to keep results\n",
    "acc_list = []\n",
    "auc_list = []\n",
    "loss_list = []\n",
    "saver = tf.train.Saver()\n",
    "\n",
    "config = tf.ConfigProto(device_count = {'GPU': 0})\n",
    "\n",
    "\n",
    "with tf.Session(config=config) as sess:\n",
    "    sess.run(init)\n",
    "    for i in range(epochs):\n",
    "        for j in range(0,steps-remaining,step_size):\n",
    "            #Feeding step_size-amount data with 0.5 keeping probabilities on DROPOUT LAYERS\n",
    "            _,c = sess.run([train,cross_entropy],feed_dict={x:train_x[j:j+step_size] , y_true:train_y[j:j+step_size]})\n",
    "        \n",
    "        #Writing for loop to calculate test statistics. GTX 1050 isn't able to calculate all test data.\n",
    "        cv_auc_list = []\n",
    "        cv_acc_list = []\n",
    "        cv_loss_list = []\n",
    "        for v in range(0,len(test_x)-int(len(test_x) % validating_size),validating_size):\n",
    "            acc_on_cv,loss_on_cv,preds = sess.run([acc,cross_entropy,tf.nn.softmax(y_pred)],feed_dict={x:test_x[v:v+validating_size] ,y_true:test_y[v:v+validating_size]})\n",
    "            auc_on_cv = roc_auc_score(test_y[v:v+validating_size],preds)\n",
    "            cv_acc_list.append(acc_on_cv)\n",
    "            cv_auc_list.append(auc_on_cv)\n",
    "            cv_loss_list.append(loss_on_cv)\n",
    "        acc_cv_ = round(np.mean(cv_acc_list),5)\n",
    "        auc_cv_ = round(np.mean(cv_auc_list),5)\n",
    "        loss_cv_ = round(np.mean(cv_loss_list),5)\n",
    "        acc_list.append(acc_cv_)\n",
    "        auc_list.append(auc_cv_)\n",
    "        loss_list.append(loss_cv_)\n",
    "        print(\"Epoch:\",i,\"Accuracy:\",acc_cv_,\"Loss:\",loss_cv_ ,\"AUC:\",auc_cv_)\n",
    "    \n",
    "    test_auc_list = []\n",
    "    test_acc_list = []\n",
    "    test_loss_list = []\n",
    "    \n",
    "    for v in range(0,len(test_x)-int(len(test_x) % validating_size),validating_size):\n",
    "        acc_on_test,loss_on_test,preds = sess.run([acc,cross_entropy,tf.nn.softmax(y_pred)],feed_dict={x:test_x[v:v+validating_size] ,\n",
    "        y_true:test_y[v:v+validating_size] })\n",
    "        auc_on_test = roc_auc_score(test_y[v:v+validating_size],preds)\n",
    "        test_acc_list.append(acc_on_test)\n",
    "        test_auc_list.append(auc_on_test)\n",
    "        test_loss_list.append(loss_on_test)\n",
    "    saver.save(sess, os.path.join(os.getcwd(),\"CNN_MC.ckpt\"))\n",
    "    \n",
    "    test_acc_ = round(np.mean(test_acc_list),5)\n",
    "    test_auc_ = round(np.mean(test_auc_list),5)\n",
    "    test_loss_ = round(np.mean(test_loss_list),5)\n",
    "    print(\"Test Results are below:\")\n",
    "    print(\"Accuracy:\",test_acc_,\"Loss:\",test_loss_,\"AUC:\",test_auc_)"
   ]
  },
  {
   "cell_type": "code",
   "execution_count": null,
   "metadata": {},
   "outputs": [],
   "source": []
  }
 ],
 "metadata": {
  "kernelspec": {
   "display_name": "Python 3",
   "language": "python",
   "name": "python3"
  },
  "language_info": {
   "codemirror_mode": {
    "name": "ipython",
    "version": 3
   },
   "file_extension": ".py",
   "mimetype": "text/x-python",
   "name": "python",
   "nbconvert_exporter": "python",
   "pygments_lexer": "ipython3",
   "version": "3.7.3"
  }
 },
 "nbformat": 4,
 "nbformat_minor": 2
}

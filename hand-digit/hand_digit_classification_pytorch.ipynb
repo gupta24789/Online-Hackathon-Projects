{
 "cells": [
  {
   "cell_type": "markdown",
   "metadata": {},
   "source": [
    "#### This notebook covers below \n",
    "    - FNN without data augmentation\n",
    "    - FNN with data augmentation\n",
    "    - CNN with data augmentation \n",
    "    \n",
    "    \n",
    "\n",
    "**Note** : Hyperparameters are not tuned. "
   ]
  },
  {
   "cell_type": "code",
   "execution_count": 1,
   "metadata": {},
   "outputs": [],
   "source": [
    "import os\n",
    "import h5py\n",
    "import pandas as pd\n",
    "import numpy as np\n",
    "import livelossplot\n",
    "\n",
    "\n",
    "import torch\n",
    "import torch.nn as nn\n",
    "import torch.nn.functional as F\n",
    "import torch.optim as optim\n",
    "from torch.utils.data import Dataset, TensorDataset, DataLoader\n",
    "import matplotlib.pyplot as plt\n",
    "\n",
    "from torchvision import transforms\n",
    "from PIL import Image\n",
    "\n",
    "import warnings"
   ]
  },
  {
   "cell_type": "code",
   "execution_count": 2,
   "metadata": {},
   "outputs": [],
   "source": [
    "## set random seeds\n",
    "warnings.filterwarnings('ignore')\n",
    "\n",
    "seed = 121\n",
    "np.random.seed(seed)\n",
    "torch.manual_seed(seed)\n",
    "torch.cuda.manual_seed(seed)"
   ]
  },
  {
   "cell_type": "code",
   "execution_count": 3,
   "metadata": {},
   "outputs": [],
   "source": [
    "## CONFIG\n",
    "TRAIN_FILE_PATH = './datasets/train_signs.h5'\n",
    "TEST_FILE_PATH = './datasets/test_signs.h5'"
   ]
  },
  {
   "cell_type": "code",
   "execution_count": 4,
   "metadata": {},
   "outputs": [],
   "source": [
    "def load_dataset(train_file_path, test_file_path):\n",
    "    \n",
    "    train = h5py.File(train_file_path)\n",
    "    test = h5py.File(test_file_path)\n",
    "    \n",
    "    X_train = train['train_set_x'].value\n",
    "    y_train = train['train_set_y'].value\n",
    "    \n",
    "    X_test = test['test_set_x'].value\n",
    "    y_test = test['test_set_y'].value\n",
    "    \n",
    "    labels = train['list_classes'].value\n",
    "    \n",
    "    print(\"Train data shape :\", X_train.shape, y_train.shape)\n",
    "    print(\"Test data shape :\", X_test.shape, y_test.shape)\n",
    "    print(\"Labels :\", labels)\n",
    "\n",
    "    return X_train,y_train,X_test,y_test,labels"
   ]
  },
  {
   "cell_type": "code",
   "execution_count": 5,
   "metadata": {},
   "outputs": [],
   "source": [
    "## Pytorch Model\n",
    "class FNN(nn.Module):\n",
    "    \n",
    "    def __init__(self, in_features, hidden_features, out_features):\n",
    "        super(FNN,self).__init__()\n",
    "        \n",
    "        self.layer1 = nn.Linear(in_features=in_features,out_features=hidden_features) ## output : batch_size * hidden_features\n",
    "        self.layer2 = nn.Linear(in_features=hidden_features, out_features=out_features) ## output: batch_size * out_features\n",
    "         \n",
    "    def forward(self, inputs):\n",
    "        \n",
    "        x = F.relu(self.layer1(inputs))\n",
    "        x = self.layer2(x)\n",
    "        return x"
   ]
  },
  {
   "cell_type": "code",
   "execution_count": 6,
   "metadata": {},
   "outputs": [],
   "source": [
    "def save_model(model_path, model_name, model, optimizer, logs, epoch):\n",
    "    model_dict = {\n",
    "        \"model\": model.state_dict(),\n",
    "        \"optimizer\":optimizer.state_dict(),\n",
    "        \"logs\":logs,\n",
    "        \"epoch\":epoch\n",
    "    }\n",
    "    \n",
    "    os.makedirs(model_path, exist_ok=True)\n",
    "    model_file_path = os.path.join(model_path,model_name)\n",
    "    torch.save(model_dict,model_file_path)"
   ]
  },
  {
   "cell_type": "code",
   "execution_count": 7,
   "metadata": {},
   "outputs": [],
   "source": [
    "def evaluate(model, inputs):\n",
    "    \n",
    "    model.eval()\n",
    "    outputs = model(inputs.float())\n",
    "    \n",
    "    preds = F.softmax(outputs)\n",
    "    preds = torch.argmax(preds, axis=1)\n",
    "    return preds\n",
    "\n",
    "def accuracy(preds, labels):\n",
    "    acc = (torch.sum(preds==labels).item()/len(labels))*100\n",
    "    return np.round(acc,3)"
   ]
  },
  {
   "cell_type": "code",
   "execution_count": 8,
   "metadata": {},
   "outputs": [],
   "source": [
    "def train(model, dataloaders, loss_fn, optimizer, num_epochs):\n",
    "    \n",
    "    lossplot = livelossplot.PlotLosses()\n",
    "    min_loss = 9999999\n",
    "    \n",
    "    for epoch in range(num_epochs):\n",
    "        logs = {}\n",
    "        for phase in [\"train\",\"validation\"]:\n",
    "            \n",
    "            running_loss = 0.0\n",
    "            running_accuracy = 0\n",
    "            \n",
    "            if phase == \"train\":\n",
    "                model.train()\n",
    "            else:\n",
    "                model.eval()\n",
    "                \n",
    "            for inputs, labels in dataloaders[phase]:\n",
    "                outputs = model(inputs.float())\n",
    "                loss = loss_fn(outputs, labels)\n",
    "                \n",
    "                running_loss += loss.item()\n",
    "                \n",
    "                preds = torch.argmax(outputs,axis=1)\n",
    "                running_accuracy += torch.sum(preds==labels)\n",
    "                \n",
    "                \n",
    "                if phase==\"train\":\n",
    "                    optimizer.zero_grad()\n",
    "                    loss.backward()\n",
    "                    optimizer.step()\n",
    "                \n",
    "            prefix = ''\n",
    "            if phase==\"validation\":\n",
    "                prefix =\"val_\"\n",
    "            \n",
    "            epoch_loss = running_loss/len(dataloaders[phase])\n",
    "            epoch_acc = running_accuracy.item()/len(dataloaders[phase].dataset)\n",
    "                \n",
    "            logs[prefix+'loss'] = np.round(epoch_loss,3)\n",
    "            logs[prefix+'accuracy'] = np.round(epoch_acc,3)\n",
    "            \n",
    "            if phase == \"validation\":\n",
    "                if epoch_loss<min_loss:\n",
    "                    min_loss = epoch_loss\n",
    "                    save_model('./model','fnn_model.pth',model, optimizer,logs, epoch)\n",
    "        \n",
    "        lossplot.update(logs)\n",
    "        lossplot.send()"
   ]
  },
  {
   "cell_type": "markdown",
   "metadata": {},
   "source": [
    "## FNN without data augmentation"
   ]
  },
  {
   "cell_type": "code",
   "execution_count": 19,
   "metadata": {},
   "outputs": [
    {
     "name": "stdout",
     "output_type": "stream",
     "text": [
      "Train data shape : (1080, 64, 64, 3) (1080,)\n",
      "Test data shape : (120, 64, 64, 3) (120,)\n",
      "Labels : [0 1 2 3 4 5]\n"
     ]
    }
   ],
   "source": [
    "## Load Data\n",
    "X_train,y_train,X_test,y_test,labels = load_dataset(TRAIN_FILE_PATH, TEST_FILE_PATH)"
   ]
  },
  {
   "cell_type": "markdown",
   "metadata": {},
   "source": [
    "## FNN with data augmentation"
   ]
  },
  {
   "cell_type": "code",
   "execution_count": 20,
   "metadata": {},
   "outputs": [],
   "source": [
    "transformation = transforms.Compose([\n",
    "    transforms.RandomRotation(20),\n",
    "    transforms.RandomAffine(10),\n",
    "    transforms.RandomHorizontalFlip(),\n",
    "    transforms.ColorJitter()\n",
    "])\n",
    "\n",
    "\n",
    "### Create augmentated data\n",
    "X_new = []\n",
    "y_new = []\n",
    "\n",
    "for img, label in zip(X_train,y_train):\n",
    "    pil_img = Image.fromarray(img, mode = 'RGB')\n",
    "    new_img = np.asarray(transformation(pil_img))\n",
    "    X_new.append(new_img)\n",
    "    y_new.append(label)\n",
    "    \n",
    "    \n",
    "X_new = np.asarray(X_new)\n",
    "y_new = np.asarray(y_new)\n",
    "X_train = np.concatenate([X_train,X_new])\n",
    "y_train = np.concatenate([y_train,y_new])"
   ]
  },
  {
   "cell_type": "markdown",
   "metadata": {},
   "source": [
    "## Model Traning"
   ]
  },
  {
   "cell_type": "code",
   "execution_count": 21,
   "metadata": {},
   "outputs": [
    {
     "data": {
      "text/plain": [
       "(torch.Size([2160, 12288]),\n",
       " torch.Size([2160]),\n",
       " torch.Size([120, 12288]),\n",
       " torch.Size([120]))"
      ]
     },
     "execution_count": 21,
     "metadata": {},
     "output_type": "execute_result"
    }
   ],
   "source": [
    "## Normalize input \n",
    "X_train = X_train/255.0\n",
    "X_test = X_test/255.0\n",
    "    \n",
    "### Convert data to pytorch tensor\n",
    "X_train = torch.from_numpy(X_train)\n",
    "y_train = torch.from_numpy(y_train)\n",
    "X_test = torch.from_numpy(X_test)\n",
    "y_test = torch.from_numpy(y_test)\n",
    "\n",
    "## Copy data for cnn model\n",
    "X_train_cnn, y_train_cnn, X_test_cnn, y_test_cnn = X_train, y_train,X_test,y_test\n",
    "\n",
    "### Convert data to pytorch FNN input\n",
    "X_train = X_train.view(X_train.shape[0],-1)\n",
    "X_test = X_test.view(X_test.shape[0],-1)\n",
    "\n",
    "X_train.shape, y_train.shape, X_test.shape, y_test.shape"
   ]
  },
  {
   "cell_type": "code",
   "execution_count": 12,
   "metadata": {},
   "outputs": [],
   "source": [
    "## Model config\n",
    "batch_size = 64\n",
    "epochs = 50\n",
    "learning_rate = 0.0005\n",
    "\n",
    "in_features = X_train.shape[1]\n",
    "hidden_features = 100\n",
    "out_features = len(labels)\n",
    "\n",
    "device = \"cuda\" if torch.cuda.is_available() else \"cpu\""
   ]
  },
  {
   "cell_type": "code",
   "execution_count": 13,
   "metadata": {},
   "outputs": [],
   "source": [
    "## Create dataset and dataloader\n",
    "## you can also create the custom class for dataset\n",
    "train_ds = TensorDataset(X_train,y_train)\n",
    "test_ds = TensorDataset(X_test, y_test)\n",
    "\n",
    "train_dl = DataLoader(train_ds, batch_size = batch_size, shuffle= True)\n",
    "test_dl = DataLoader(test_ds, batch_size = batch_size, shuffle = False)\n",
    "\n",
    "dataloaders = {\n",
    "    \"train\": train_dl,\n",
    "    \"validation\" : test_dl\n",
    "}\n",
    "\n",
    "model = FNN(in_features,hidden_features,out_features)\n",
    "loss_fn = nn.CrossEntropyLoss()\n",
    "optimizer = optim.Adam(model.parameters(), lr = learning_rate)"
   ]
  },
  {
   "cell_type": "code",
   "execution_count": 14,
   "metadata": {},
   "outputs": [
    {
     "data": {
      "image/png": "[encoded data removed]",
      "text/plain": [
       "<Figure size 864x576 with 2 Axes>"
      ]
     },
     "metadata": {
      "needs_background": "light"
     },
     "output_type": "display_data"
    },
    {
     "name": "stdout",
     "output_type": "stream",
     "text": [
      "accuracy\n",
      "\ttraining         \t (min:    0.190, max:    0.788, cur:    0.788)\n",
      "\tvalidation       \t (min:    0.208, max:    0.817, cur:    0.817)\n",
      "Loss\n",
      "\ttraining         \t (min:    0.691, max:    1.972, cur:    0.691)\n",
      "\tvalidation       \t (min:    0.647, max:    1.754, cur:    0.647)\n"
     ]
    }
   ],
   "source": [
    "train(model , dataloaders, loss_fn, optimizer, epochs)"
   ]
  },
  {
   "cell_type": "code",
   "execution_count": 15,
   "metadata": {},
   "outputs": [
    {
     "name": "stdout",
     "output_type": "stream",
     "text": [
      "Test Accuracy : 81.667\n"
     ]
    }
   ],
   "source": [
    "## Load model\n",
    "model_file_path = './model/fnn_model.pth'\n",
    "model_dict = torch.load(model_file_path)\n",
    "\n",
    "model = FNN(in_features,hidden_features,out_features)\n",
    "model.load_state_dict(model_dict['model'])\n",
    "\n",
    "preds = evaluate(model, X_test)\n",
    "print(\"Test Accuracy :\", accuracy(preds,y_test))"
   ]
  },
  {
   "cell_type": "markdown",
   "metadata": {},
   "source": [
    "## CNN"
   ]
  },
  {
   "cell_type": "code",
   "execution_count": null,
   "metadata": {},
   "outputs": [],
   "source": [
    "X_train_cnn.shape, y_train_cnn.shape, X_test_cnn.shape, y_test_cnn.shape"
   ]
  },
  {
   "cell_type": "code",
   "execution_count": null,
   "metadata": {},
   "outputs": [],
   "source": [
    "X_train_cnn = X_train_cnn.permute(0,3,1,2)\n",
    "X_test_cnn = X_test_cnn.permute(0,3,1,2)\n",
    "X_train_cnn.shape, X_test_cnn.shape"
   ]
  },
  {
   "cell_type": "code",
   "execution_count": 84,
   "metadata": {},
   "outputs": [],
   "source": [
    "class CNN(nn.Module):\n",
    "    \n",
    "    def __init__(self, in_channels, out_labels):\n",
    "        super(CNN, self).__init__()\n",
    "        \n",
    "        self.cnn_layer = nn.Sequential(\n",
    "            \n",
    "            # layer 1\n",
    "            nn.Conv2d(in_channels = in_channels, out_channels = 16, kernel_size=3,stride=1,padding=0),\n",
    "            nn.ReLU(inplace = True),\n",
    "            nn.MaxPool2d(kernel_size=2,stride=1,padding=0),\n",
    "            \n",
    "            # layer 2\n",
    "            nn.Conv2d(in_channels = 16, out_channels = 32, kernel_size=5,stride=1,padding=1),\n",
    "            nn.ReLU(inplace = True),\n",
    "            nn.MaxPool2d(kernel_size=2,stride=1,padding=0),\n",
    "            \n",
    "            # layer 3\n",
    "            nn.Conv2d(in_channels = 32, out_channels = 32, kernel_size=5,stride=1,padding=1),\n",
    "            nn.ReLU(inplace = True),\n",
    "            nn.MaxPool2d(kernel_size=3,stride=1,padding=1)\n",
    "        )\n",
    "        self.linear_layer = nn.Sequential(\n",
    "            nn.Flatten(),\n",
    "            nn.Linear(in_features = 32 * 56 * 56,out_features = 512),\n",
    "            nn.ReLU(inplace = True),\n",
    "            nn.Dropout(p=0.15),\n",
    "            nn.Linear(512, out_labels)\n",
    "            \n",
    "        )\n",
    "    \n",
    "    def forward(self, inputs):\n",
    "        x = self.cnn_layer(inputs)\n",
    "#         print(x.shape)\n",
    "        x = self.linear_layer(x)\n",
    "        return x"
   ]
  },
  {
   "cell_type": "code",
   "execution_count": 85,
   "metadata": {},
   "outputs": [],
   "source": [
    "## Model config\n",
    "batch_size = 64\n",
    "epochs = 10\n",
    "learning_rate = 0.0005\n",
    "\n",
    "in_features = X_train_cnn.shape[1]"
   ]
  },
  {
   "cell_type": "code",
   "execution_count": 86,
   "metadata": {},
   "outputs": [],
   "source": [
    "## Create dataset and dataloader\n",
    "## you can also create the custom class for dataset\n",
    "train_ds = TensorDataset(X_train_cnn,y_train)\n",
    "test_ds = TensorDataset(X_test_cnn, y_test)\n",
    "\n",
    "train_dl = DataLoader(train_ds, batch_size = batch_size, shuffle= True)\n",
    "test_dl = DataLoader(test_ds, batch_size = batch_size, shuffle = False)\n",
    "\n",
    "dataloaders = {\n",
    "    \"train\": train_dl,\n",
    "    \"validation\" : test_dl\n",
    "}\n",
    "\n",
    "model = CNN(in_channels = in_features,out_labels=len(labels))\n",
    "loss_fn = nn.CrossEntropyLoss()\n",
    "optimizer = optim.Adam(model.parameters(), lr = learning_rate)"
   ]
  },
  {
   "cell_type": "code",
   "execution_count": 87,
   "metadata": {},
   "outputs": [
    {
     "data": {
      "image/png": "[encoded data removed]",
      "text/plain": [
       "<Figure size 864x576 with 2 Axes>"
      ]
     },
     "metadata": {
      "needs_background": "light"
     },
     "output_type": "display_data"
    },
    {
     "name": "stdout",
     "output_type": "stream",
     "text": [
      "accuracy\n",
      "\ttraining         \t (min:    0.216, max:    0.979, cur:    0.979)\n",
      "\tvalidation       \t (min:    0.383, max:    0.958, cur:    0.942)\n",
      "Loss\n",
      "\ttraining         \t (min:    0.072, max:    1.839, cur:    0.072)\n",
      "\tvalidation       \t (min:    0.133, max:    1.646, cur:    0.133)\n"
     ]
    }
   ],
   "source": [
    "train(model , dataloaders, loss_fn, optimizer, epochs)"
   ]
  },
  {
   "cell_type": "code",
   "execution_count": 88,
   "metadata": {},
   "outputs": [
    {
     "name": "stdout",
     "output_type": "stream",
     "text": [
      "Test Accuracy : 94.167\n"
     ]
    }
   ],
   "source": [
    "## Load model\n",
    "model_file_path = './model/fnn_model.pth'\n",
    "model_dict = torch.load(model_file_path)\n",
    "\n",
    "model = CNN(in_channels = in_features,out_labels=len(labels))\n",
    "model.load_state_dict(model_dict['model'])\n",
    "\n",
    "preds = evaluate(model, X_test_cnn)\n",
    "print(\"Test Accuracy :\", accuracy(preds,y_test))"
   ]
  },
  {
   "cell_type": "markdown",
   "metadata": {},
   "source": [
    "#### Results\n",
    "\n",
    "    - FNN without data augmentation accuracy : 77.5 %\n",
    "    - FNN with data augmentation accuracy : 83.33% \n",
    "    - CNN with data augmentation accuracy : 94.16%"
   ]
  }
 ],
 "metadata": {
  "kernelspec": {
   "display_name": "Python 3",
   "language": "python",
   "name": "python3"
  },
  "language_info": {
   "codemirror_mode": {
    "name": "ipython",
    "version": 3
   },
   "file_extension": ".py",
   "mimetype": "text/x-python",
   "name": "python",
   "nbconvert_exporter": "python",
   "pygments_lexer": "ipython3",
   "version": "3.7.3"
  }
 },
 "nbformat": 4,
 "nbformat_minor": 2
}

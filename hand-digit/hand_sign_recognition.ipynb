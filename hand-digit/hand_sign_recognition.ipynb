{
 "cells": [
  {
   "cell_type": "code",
   "execution_count": 105,
   "metadata": {},
   "outputs": [],
   "source": [
    "import numpy as np\n",
    "import h5py\n",
    "import cv2\n",
    "import matplotlib.pyplot as plt\n",
    "import keras\n",
    "from keras.utils import np_utils\n",
    "from IPython.display import clear_output\n",
    "from keras.layers import Conv2D, Dense, MaxPooling2D, Input,Flatten, Dropout\n",
    "from keras.models import Sequential\n",
    "from  keras.optimizers import Adam\n",
    "from keras.preprocessing.image import ImageDataGenerator\n",
    "\n",
    "%matplotlib inline\n",
    "\n",
    "plt.rcParams['figure.figsize'] = (5,4)\n",
    "plt.rcParams['image.cmap'] = 'gray'\n",
    "plt.rcParams['image.interpolation'] = 'nearest'"
   ]
  },
  {
   "cell_type": "code",
   "execution_count": 2,
   "metadata": {},
   "outputs": [],
   "source": [
    "class PlotLosses(keras.callbacks.Callback):\n",
    "    def on_train_begin(self, logs={}):\n",
    "        self.i = 0\n",
    "        self.x = []\n",
    "        self.losses = []\n",
    "        self.val_losses = []\n",
    "        \n",
    "        self.fig = plt.figure()\n",
    "        \n",
    "        self.logs = []\n",
    "\n",
    "    def on_epoch_end(self, epoch, logs={}):\n",
    "        \n",
    "        self.logs.append(logs)\n",
    "        self.x.append(self.i)\n",
    "        self.losses.append(logs.get('loss'))\n",
    "        self.val_losses.append(logs.get('val_loss'))\n",
    "        self.i += 1\n",
    "        \n",
    "        clear_output(wait=True)\n",
    "        plt.plot(self.x, self.losses, label=\"loss\")\n",
    "        plt.plot(self.x, self.val_losses, label=\"val_loss\")\n",
    "        plt.legend()\n",
    "        plt.show();\n",
    "        \n",
    "plot_losses = PlotLosses()"
   ]
  },
  {
   "cell_type": "code",
   "execution_count": 3,
   "metadata": {},
   "outputs": [],
   "source": [
    "def load_dataset():\n",
    "    train = h5py.File('./datasets/train_signs.h5')\n",
    "    test = h5py.File('./datasets/test_signs.h5')\n",
    "    keys = keys = [k for k in train]\n",
    "    \n",
    "    train_x = train['train_set_x'].value\n",
    "    train_y = train['train_set_y'].value\n",
    "    \n",
    "    test_x = test['test_set_x'].value\n",
    "    test_y = test['test_set_y'].value\n",
    "    \n",
    "    list_classes = train['list_classes'].value\n",
    "    \n",
    "    print(\"Shape of train X : \",train_x.shape)\n",
    "    print(\"Shape of train Y : \",train_y.shape)\n",
    "    print(\"Shape of test X : \",test_x.shape)\n",
    "    print(\"Shape of test Y :\",test_y.shape)\n",
    "    \n",
    "    return train_x,train_y, test_x,test_y, list_classes"
   ]
  },
  {
   "cell_type": "code",
   "execution_count": 4,
   "metadata": {},
   "outputs": [
    {
     "name": "stdout",
     "output_type": "stream",
     "text": [
      "Shape of train X :  (1080, 64, 64, 3)\n",
      "Shape of train Y :  (1080,)\n",
      "Shape of test X :  (120, 64, 64, 3)\n",
      "Shape of test Y : (120,)\n"
     ]
    }
   ],
   "source": [
    "X_train_orig, Y_train_orig, X_test_orig, Y_test_orig, classes = load_dataset()"
   ]
  },
  {
   "cell_type": "code",
   "execution_count": 5,
   "metadata": {},
   "outputs": [],
   "source": [
    "### Normalize the imputs\n",
    "X_train = X_train_orig/255\n",
    "X_test = X_test_orig/255"
   ]
  },
  {
   "cell_type": "code",
   "execution_count": 6,
   "metadata": {},
   "outputs": [],
   "source": [
    "## One hot encoding for target variable\n",
    "y_train = np_utils.to_categorical(Y_train_orig)\n",
    "y_test = np_utils.to_categorical(Y_test_orig)"
   ]
  },
  {
   "cell_type": "code",
   "execution_count": 7,
   "metadata": {},
   "outputs": [
    {
     "data": {
      "text/plain": [
       "((1080, 64, 64, 3), (1080, 6))"
      ]
     },
     "execution_count": 7,
     "metadata": {},
     "output_type": "execute_result"
    }
   ],
   "source": [
    "### Check shape of data\n",
    "X_train.shape, y_train.shape"
   ]
  },
  {
   "cell_type": "code",
   "execution_count": 8,
   "metadata": {},
   "outputs": [
    {
     "data": {
      "text/plain": [
       "((120, 64, 64, 3), (120, 6))"
      ]
     },
     "execution_count": 8,
     "metadata": {},
     "output_type": "execute_result"
    }
   ],
   "source": [
    "X_test.shape, y_test.shape"
   ]
  },
  {
   "cell_type": "code",
   "execution_count": 96,
   "metadata": {},
   "outputs": [],
   "source": [
    "# ### Model Building \n",
    "## Test Accuracy : 97.5\n",
    "# model = Sequential()\n",
    "# model.add(Conv2D(16,(5,5),input_shape = X_train.shape[1:],activation='relu'))\n",
    "# model.add(MaxPooling2D((3,3),strides=2))\n",
    "\n",
    "# model.add(Conv2D(32,(5,5),activation='relu',padding='same'))\n",
    "# model.add(MaxPooling2D((3,3),strides=2))\n",
    "\n",
    "# model.add(Conv2D(32,(3,3),activation='relu'))\n",
    "# model.add(MaxPooling2D((3,3),strides=2))\n",
    "          \n",
    "# model.add(Conv2D(64,(3,3),activation='relu'))\n",
    "# model.add(MaxPooling2D((3,3),strides=2))\n",
    "          \n",
    "# model.add(Flatten())\n",
    "# model.add(Dense(80,activation='relu'))\n",
    "# model.add(Dropout(.35))\n",
    "# model.add(Dense(6,activation='softmax'))"
   ]
  },
  {
   "cell_type": "code",
   "execution_count": 152,
   "metadata": {},
   "outputs": [],
   "source": [
    "### Model Building\n",
    "model = Sequential()\n",
    "model.add(Conv2D(16,(5,5),input_shape = X_train.shape[1:],activation='relu'))\n",
    "model.add(MaxPooling2D((3,3),strides=2))\n",
    "\n",
    "model.add(Conv2D(32,(5,5),activation='relu',padding='same'))\n",
    "model.add(MaxPooling2D((3,3),strides=2))\n",
    "\n",
    "model.add(Conv2D(32,(3,3),activation='relu'))\n",
    "model.add(MaxPooling2D((3,3),strides=2))\n",
    "          \n",
    "model.add(Conv2D(64,(3,3),activation='relu'))\n",
    "model.add(MaxPooling2D((3,3),strides=2))\n",
    "          \n",
    "model.add(Flatten())\n",
    "model.add(Dense(80,activation='relu'))\n",
    "model.add(Dropout(.35))\n",
    "model.add(Dense(6,activation='softmax'))"
   ]
  },
  {
   "cell_type": "code",
   "execution_count": 153,
   "metadata": {},
   "outputs": [],
   "source": [
    "adam = Adam(lr=.0001)\n",
    "model.compile(optimizer=adam,loss=keras.losses.categorical_crossentropy,metrics =['accuracy'])"
   ]
  },
  {
   "cell_type": "code",
   "execution_count": 154,
   "metadata": {},
   "outputs": [],
   "source": [
    "# model.fit(X_train,y_train,batch_size=128,epochs=300,validation_data=(X_test,y_test),callbacks=[plot_losses])"
   ]
  },
  {
   "cell_type": "code",
   "execution_count": 155,
   "metadata": {},
   "outputs": [],
   "source": [
    "### data argumentation\n",
    "datagen = ImageDataGenerator(\n",
    "    featurewise_center=True,\n",
    "    featurewise_std_normalization=True,\n",
    "    rotation_range=20,\n",
    "    width_shift_range=0.2,\n",
    "    height_shift_range=0.2,\n",
    "    horizontal_flip=True)"
   ]
  },
  {
   "cell_type": "code",
   "execution_count": 156,
   "metadata": {},
   "outputs": [
    {
     "data": {
      "image/png": "[encoded data removed]",
      "text/plain": [
       "<Figure size 360x288 with 1 Axes>"
      ]
     },
     "metadata": {
      "needs_background": "light"
     },
     "output_type": "display_data"
    },
    {
     "data": {
      "text/plain": [
       "<keras.callbacks.History at 0x2032bf06eb8>"
      ]
     },
     "execution_count": 156,
     "metadata": {},
     "output_type": "execute_result"
    }
   ],
   "source": [
    "model.fit_generator(datagen.flow(X_train, y_train, batch_size=32),\n",
    "                    steps_per_epoch=len(X_train)/32,\n",
    "                    epochs=1000,\n",
    "                    validation_data=(X_test,y_test),\n",
    "                    callbacks=[plot_losses])"
   ]
  },
  {
   "cell_type": "code",
   "execution_count": 157,
   "metadata": {},
   "outputs": [
    {
     "name": "stdout",
     "output_type": "stream",
     "text": [
      "1080/1080 [==============================] - 1s 995us/step\n"
     ]
    },
    {
     "data": {
      "text/plain": [
       "[0.008477459485746092, 0.9981481481481481]"
      ]
     },
     "execution_count": 157,
     "metadata": {},
     "output_type": "execute_result"
    }
   ],
   "source": [
    "model.evaluate(X_train,y_train)"
   ]
  },
  {
   "cell_type": "code",
   "execution_count": 158,
   "metadata": {},
   "outputs": [
    {
     "name": "stdout",
     "output_type": "stream",
     "text": [
      "120/120 [==============================] - 0s 1ms/step\n"
     ]
    },
    {
     "data": {
      "text/plain": [
       "[0.006175982230342924, 1.0]"
      ]
     },
     "execution_count": 158,
     "metadata": {},
     "output_type": "execute_result"
    }
   ],
   "source": [
    "model.evaluate(X_test,y_test)"
   ]
  },
  {
   "cell_type": "code",
   "execution_count": null,
   "metadata": {},
   "outputs": [],
   "source": [
    "# model.save('hand_recognition.h5')"
   ]
  }
 ],
 "metadata": {
  "kernelspec": {
   "display_name": "Python 3",
   "language": "python",
   "name": "python3"
  },
  "language_info": {
   "codemirror_mode": {
    "name": "ipython",
    "version": 3
   },
   "file_extension": ".py",
   "mimetype": "text/x-python",
   "name": "python",
   "nbconvert_exporter": "python",
   "pygments_lexer": "ipython3",
   "version": "3.7.1"
  }
 },
 "nbformat": 4,
 "nbformat_minor": 2
}
